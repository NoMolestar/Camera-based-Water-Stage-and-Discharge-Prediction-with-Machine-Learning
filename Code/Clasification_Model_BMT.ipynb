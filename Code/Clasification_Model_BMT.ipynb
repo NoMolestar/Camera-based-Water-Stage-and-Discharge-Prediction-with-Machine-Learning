{
  "cells": [
    {
      "cell_type": "markdown",
      "source": [
        "# Modelo de Clasificación de Imagenes Útiles/No Útiles\n",
        "### Carlos Javier Leal Beltran A01741355\n",
        "### Carlos Moises Chavez Jimenez A01637322\n",
        "### Ernesto Adrian Alvarez Salazar A00227490\n",
        "### Luis Armando Salazar Lopez A0114901\n",
        "\n",
        "Desarrollarémos una red convolucional pre-entrenada para clasificar imagenes entre útiles y no útiles.\n"
      ],
      "metadata": {
        "id": "LR4qMTt8Sn_K"
      }
    },
    {
      "cell_type": "markdown",
      "source": [
        "## 0.- Librerías y Permisos"
      ],
      "metadata": {
        "id": "EObbIuFWaucy"
      }
    },
    {
      "cell_type": "code",
      "execution_count": 1,
      "metadata": {
        "id": "TkkLmMQMmztT"
      },
      "outputs": [],
      "source": [
        "# Importaremos todas las librerías necesarias para nuestro código.\n",
        "import numpy as np\n",
        "import pandas as pd\n",
        "import matplotlib.pyplot as plt\n",
        "import statsmodels.api as sm\n",
        "import seaborn as sns\n",
        "import scipy.stats\n",
        "import tensorflow as tf\n",
        "from matplotlib import pyplot\n",
        "import os\n",
        "import cv2\n",
        "import math\n",
        "\n",
        "\n",
        "from numpy import expand_dims\n",
        "from sklearn.model_selection import KFold\n",
        "from tensorflow import keras\n",
        "from keras.models import Sequential\n",
        "from keras.layers import Input, Dense, Dropout, Flatten, Activation, GlobalAveragePooling2D\n",
        "from keras.layers import Conv2D, MaxPooling2D, MaxPool2D\n",
        "from keras.callbacks import ModelCheckpoint, LearningRateScheduler, EarlyStopping, ReduceLROnPlateau, TensorBoard\n",
        "from tensorflow.keras.utils import to_categorical, array_to_img, img_to_array, load_img\n",
        "from keras.datasets import fashion_mnist\n",
        "from keras.optimizers import SGD, Adam\n",
        "from keras.preprocessing.image import ImageDataGenerator\n",
        "from keras import backend as K\n",
        "from PIL import ImageFile\n",
        "ImageFile.LOAD_TRUNCATED_IMAGES = True\n",
        "from sklearn.metrics import confusion_matrix\n",
        "from sklearn.metrics import ConfusionMatrixDisplay"
      ]
    },
    {
      "cell_type": "code",
      "execution_count": 2,
      "metadata": {
        "colab": {
          "base_uri": "https://localhost:8080/"
        },
        "id": "dDyTeRfycXgA",
        "outputId": "d5abd7ef-e7e7-4080-d38a-3ad6a834e270"
      },
      "outputs": [
        {
          "output_type": "stream",
          "name": "stdout",
          "text": [
            "Mounted at /content/drive\n"
          ]
        }
      ],
      "source": [
        "from google.colab import drive\n",
        "drive.mount('/content/drive')"
      ]
    },
    {
      "cell_type": "markdown",
      "source": [
        "## 1.- Entrenamiento y evaluación del modelo generado."
      ],
      "metadata": {
        "id": "1R3dbEgKiyae"
      }
    },
    {
      "cell_type": "markdown",
      "source": [
        "### Función para mostrar las imagenes con las que se va trabajando."
      ],
      "metadata": {
        "id": "MKRuvzx6jQwB"
      }
    },
    {
      "cell_type": "code",
      "source": [
        "def plots(ims, is_bgr=False, figsize=(12,6), rows=1, interp=False, titles=None):\n",
        "    f = plt.figure(figsize=figsize)\n",
        "    cols = len(ims)//rows if len(ims) % 2 == 0 else len(ims)//rows + 1\n",
        "    for i in range(len(ims)):\n",
        "        sp = f.add_subplot(rows, cols, i+1)\n",
        "        sp.axis('Off')\n",
        "        if titles is not None:\n",
        "            sp.set_title(titles[i], fontsize=16)\n",
        "        if is_bgr:\n",
        "            plt.imshow(bgr_to_rgb(ims[i]), interpolation=None if interp else 'none')\n",
        "        else:\n",
        "            plt.imshow(ims[i], interpolation=None if interp else 'none')"
      ],
      "metadata": {
        "id": "IBoLNzw3nwpP"
      },
      "execution_count": null,
      "outputs": []
    },
    {
      "cell_type": "markdown",
      "source": [
        "### Importación de imagenes para training, validation y testing.\n",
        "\n",
        "A la par que importamos las fotografías, también definimos el tamaño inicial y el batch size para el entrenamiento del modelo."
      ],
      "metadata": {
        "id": "GgthqUvxjhrm"
      }
    },
    {
      "cell_type": "code",
      "execution_count": 6,
      "metadata": {
        "id": "wksii88GncMl"
      },
      "outputs": [],
      "source": [
        "# dimensions of our images.\n",
        "img_width, img_height = 512, 512\n",
        "\n",
        "train_data_dir = '/content/drive/Shareddrives/Caudales - Concentración/Imagenes/Train'\n",
        "validation_data_dir = '/content/drive/Shareddrives/Caudales - Concentración/Imagenes/Validacion'\n",
        "test_data_dir = '/content/drive/Shareddrives/Caudales - Concentración/Imagenes/Test'\n",
        "nb_train_samples = 571\n",
        "nb_validation_samples = 568\n",
        "batch_size = 8\n",
        "\n",
        "if K.image_data_format() == 'channels_first':\n",
        "    input_shape = (3, img_width, img_height)\n",
        "else:\n",
        "    input_shape = (img_width, img_height, 3)"
      ]
    },
    {
      "cell_type": "code",
      "execution_count": 8,
      "metadata": {
        "colab": {
          "base_uri": "https://localhost:8080/"
        },
        "id": "LdOZQyUTrVTg",
        "outputId": "24aac2b2-5ab2-450d-e96a-d05b67ab1306"
      },
      "outputs": [
        {
          "output_type": "stream",
          "name": "stdout",
          "text": [
            "Found 571 images belonging to 2 classes.\n",
            "Found 568 images belonging to 2 classes.\n",
            "Found 571 images belonging to 2 classes.\n"
          ]
        }
      ],
      "source": [
        "train_datagen = ImageDataGenerator(\n",
        "        rescale=1./255,\n",
        "        shear_range=0.2,\n",
        "        zoom_range=0.2,\n",
        "        horizontal_flip=False)\n",
        "\n",
        "test_datagen = ImageDataGenerator(rescale=1./255)\n",
        "\n",
        "train_generator = train_datagen.flow_from_directory(\n",
        "    train_data_dir,\n",
        "    shuffle=True,\n",
        "    target_size=(img_height,img_width),\n",
        "    batch_size=batch_size,\n",
        "    class_mode='binary')\n",
        "\n",
        "validation_generator = test_datagen.flow_from_directory(\n",
        "    validation_data_dir,\n",
        "    shuffle=True,\n",
        "    target_size=(img_height,img_width),\n",
        "    batch_size=batch_size,\n",
        "    class_mode='binary')\n",
        "\n",
        "test_generator = test_datagen.flow_from_directory(\n",
        "    test_data_dir,\n",
        "    shuffle=True,\n",
        "    target_size=(img_height,img_width),\n",
        "    batch_size=batch_size,\n",
        "    class_mode='binary')"
      ]
    },
    {
      "cell_type": "markdown",
      "source": [
        "### Mostramos las imagenes con las que se va a trabajar."
      ],
      "metadata": {
        "id": "s3PK7amgj4yy"
      }
    },
    {
      "cell_type": "code",
      "source": [
        "bx, by = next(train_generator)\n",
        "print(bx.shape)\n",
        "plots([bx[i] for i in range(bx.shape[0])], rows=1)"
      ],
      "metadata": {
        "colab": {
          "base_uri": "https://localhost:8080/",
          "height": 119
        },
        "id": "SlQkHEPMnq2v",
        "outputId": "afee15ce-a7dd-4fc7-c4e8-d8e94bb760d8"
      },
      "execution_count": null,
      "outputs": [
        {
          "output_type": "stream",
          "name": "stdout",
          "text": [
            "(8, 512, 512, 3)\n"
          ]
        },
        {
          "output_type": "display_data",
          "data": {
            "text/plain": [
              "<Figure size 864x432 with 8 Axes>"
            ],
            "image/png": "[encoded data removed]"
          },
          "metadata": {
            "needs_background": "light"
          }
        }
      ]
    },
    {
      "cell_type": "markdown",
      "source": [
        "### Definimos las capas de nuestro modelo y agregamos el modelo prentrenado.\n",
        "\n",
        "Elegímos ResNet101V2 porque fue el que tuvo mejor performance al momento de entrenar."
      ],
      "metadata": {
        "id": "pkcunbWRkKLa"
      }
    },
    {
      "cell_type": "code",
      "execution_count": null,
      "metadata": {
        "colab": {
          "base_uri": "https://localhost:8080/"
        },
        "id": "ANpfFJ_IlmYF",
        "outputId": "8f10f91e-8621-4bc9-9a4f-6c7ec651be21"
      },
      "outputs": [
        {
          "output_type": "stream",
          "name": "stdout",
          "text": [
            "Downloading data from https://storage.googleapis.com/tensorflow/keras-applications/resnet/resnet101v2_weights_tf_dim_ordering_tf_kernels_notop.h5\n",
            "171317808/171317808 [==============================] - 5s 0us/step\n",
            "Model: \"sequential\"\n",
            "_________________________________________________________________\n",
            " Layer (type)                Output Shape              Param #   \n",
            "=================================================================\n",
            " resnet101v2 (Functional)    (None, 16, 16, 2048)      42626560  \n",
            "                                                                 \n",
            " conv2d (Conv2D)             (None, 14, 14, 64)        1179712   \n",
            "                                                                 \n",
            " flatten (Flatten)           (None, 12544)             0         \n",
            "                                                                 \n",
            " dense (Dense)               (None, 64)                802880    \n",
            "                                                                 \n",
            " activation (Activation)     (None, 64)                0         \n",
            "                                                                 \n",
            " dropout (Dropout)           (None, 64)                0         \n",
            "                                                                 \n",
            " dense_1 (Dense)             (None, 2)                 130       \n",
            "                                                                 \n",
            " activation_1 (Activation)   (None, 2)                 0         \n",
            "                                                                 \n",
            "=================================================================\n",
            "Total params: 44,609,282\n",
            "Trainable params: 44,511,618\n",
            "Non-trainable params: 97,664\n",
            "_________________________________________________________________\n"
          ]
        }
      ],
      "source": [
        "nclass = len(train_generator.class_indices)\n",
        "base_model = tf.keras.applications.ResNet101V2(weights='imagenet', \n",
        "                                include_top=False, \n",
        "                                input_shape=(512, 512, 3))\n",
        "add_model = Sequential()\n",
        "add_model.add(base_model)\n",
        "add_model.add(Conv2D(64, (3, 3)))\n",
        "add_model.add(Flatten())\n",
        "add_model.add(Dense(64))\n",
        "add_model.add(Activation('relu'))\n",
        "add_model.add(Dropout(0.5))\n",
        "add_model.add(Dense(nclass))\n",
        "add_model.add(Activation('softmax'))\n",
        "\n",
        "model = add_model\n",
        "model.compile(loss='sparse_categorical_crossentropy', \n",
        "              optimizer=SGD(learning_rate=1e-4, momentum=0.9),\n",
        "              metrics=['accuracy'])\n",
        "model.summary()"
      ]
    },
    {
      "cell_type": "markdown",
      "source": [
        "### Definimos las características del entrenamiento que tendrá el modelo.\n",
        "\n",
        "Vamos a definir solamente 5 epocas para el modelo dados los recursos tan limitados con los que contamos. Además, agregaremos un earlystopping en caso de detectar overfitting y un checkpoint que nos permitirá guardar el mejor modelo."
      ],
      "metadata": {
        "id": "JFOjAOm8k2Kv"
      }
    },
    {
      "cell_type": "code",
      "execution_count": null,
      "metadata": {
        "colab": {
          "base_uri": "https://localhost:8080/"
        },
        "id": "xitbJ-shludx",
        "outputId": "684c2e45-a31c-4195-c151-097bfbe5d5fb"
      },
      "outputs": [
        {
          "output_type": "stream",
          "name": "stdout",
          "text": [
            "Epoch 1/5\n",
            "71/71 [==============================] - ETA: 0s - loss: 0.2706 - accuracy: 0.9165"
          ]
        },
        {
          "output_type": "stream",
          "name": "stderr",
          "text": [
            "WARNING:tensorflow:Can save best model only with val_acc available, skipping.\n"
          ]
        },
        {
          "output_type": "stream",
          "name": "stdout",
          "text": [
            "\b\b\b\b\b\b\b\b\b\b\b\b\b\b\b\b\b\b\b\b\b\b\b\b\b\b\b\b\b\b\b\b\b\b\b\b\b\b\b\b\b\b\b\b\b\b\b\b\b\b\b\b\b\b\b\b\b\b\b\b\b\b\b\b\b\b\b\b\b\b\b\b\b\b\b\b\b\b\b\b\b\b\r71/71 [==============================] - 963s 13s/step - loss: 0.2706 - accuracy: 0.9165 - val_loss: 0.3144 - val_accuracy: 0.9349\n",
            "Epoch 2/5\n",
            "71/71 [==============================] - ETA: 0s - loss: 0.0266 - accuracy: 0.9911"
          ]
        },
        {
          "output_type": "stream",
          "name": "stderr",
          "text": [
            "WARNING:tensorflow:Can save best model only with val_acc available, skipping.\n"
          ]
        },
        {
          "output_type": "stream",
          "name": "stdout",
          "text": [
            "\b\b\b\b\b\b\b\b\b\b\b\b\b\b\b\b\b\b\b\b\b\b\b\b\b\b\b\b\b\b\b\b\b\b\b\b\b\b\b\b\b\b\b\b\b\b\b\b\b\b\b\b\b\b\b\b\b\b\b\b\b\b\b\b\b\b\b\b\b\b\b\b\b\b\b\b\b\b\b\b\b\b\r71/71 [==============================] - 279s 4s/step - loss: 0.0266 - accuracy: 0.9911 - val_loss: 0.3591 - val_accuracy: 0.9454\n",
            "Epoch 3/5\n",
            "71/71 [==============================] - ETA: 0s - loss: 0.0221 - accuracy: 0.9911"
          ]
        },
        {
          "output_type": "stream",
          "name": "stderr",
          "text": [
            "WARNING:tensorflow:Can save best model only with val_acc available, skipping.\n"
          ]
        },
        {
          "output_type": "stream",
          "name": "stdout",
          "text": [
            "\b\b\b\b\b\b\b\b\b\b\b\b\b\b\b\b\b\b\b\b\b\b\b\b\b\b\b\b\b\b\b\b\b\b\b\b\b\b\b\b\b\b\b\b\b\b\b\b\b\b\b\b\b\b\b\b\b\b\b\b\b\b\b\b\b\b\b\b\b\b\b\b\b\b\b\b\b\b\b\b\b\b\r71/71 [==============================] - 281s 4s/step - loss: 0.0221 - accuracy: 0.9911 - val_loss: 0.4313 - val_accuracy: 0.9454\n",
            "Epoch 4/5\n",
            "71/71 [==============================] - ETA: 0s - loss: 0.0058 - accuracy: 0.9982"
          ]
        },
        {
          "output_type": "stream",
          "name": "stderr",
          "text": [
            "WARNING:tensorflow:Can save best model only with val_acc available, skipping.\n"
          ]
        },
        {
          "output_type": "stream",
          "name": "stdout",
          "text": [
            "\b\b\b\b\b\b\b\b\b\b\b\b\b\b\b\b\b\b\b\b\b\b\b\b\b\b\b\b\b\b\b\b\b\b\b\b\b\b\b\b\b\b\b\b\b\b\b\b\b\b\b\b\b\b\b\b\b\b\b\b\b\b\b\b\b\b\b\b\b\b\b\b\b\b\b\b\b\b\b\b\b\b\r71/71 [==============================] - 279s 4s/step - loss: 0.0058 - accuracy: 0.9982 - val_loss: 0.4767 - val_accuracy: 0.9454\n",
            "Epoch 5/5\n",
            "71/71 [==============================] - ETA: 0s - loss: 0.0156 - accuracy: 0.9929"
          ]
        },
        {
          "output_type": "stream",
          "name": "stderr",
          "text": [
            "WARNING:tensorflow:Can save best model only with val_acc available, skipping.\n"
          ]
        },
        {
          "output_type": "stream",
          "name": "stdout",
          "text": [
            "\b\b\b\b\b\b\b\b\b\b\b\b\b\b\b\b\b\b\b\b\b\b\b\b\b\b\b\b\b\b\b\b\b\b\b\b\b\b\b\b\b\b\b\b\b\b\b\b\b\b\b\b\b\b\b\b\b\b\b\b\b\b\b\b\b\b\b\b\b\b\b\b\b\b\b\b\b\b\b\b\b\b\r71/71 [==============================] - 278s 4s/step - loss: 0.0156 - accuracy: 0.9929 - val_loss: 0.5579 - val_accuracy: 0.9507\n"
          ]
        }
      ],
      "source": [
        "file_path=\"/content/drive/Shareddrives/Caudales - Concentración/Reto/model.best.hdf5\"\n",
        "\n",
        "checkpoint = ModelCheckpoint(file_path, monitor='val_acc', verbose=1, save_best_only=True, mode='max')\n",
        "\n",
        "early = EarlyStopping(monitor=\"accuracy\", mode=\"max\", patience=3)\n",
        "\n",
        "callbacks_list = [checkpoint, early] #early\n",
        "\n",
        "history = model.fit(train_generator, \n",
        "                    epochs=5,\n",
        "                    verbose=True,\n",
        "                    steps_per_epoch=nb_train_samples // batch_size,\n",
        "                    callbacks=callbacks_list,\n",
        "                    validation_data=validation_generator,\n",
        "                    validation_steps=nb_validation_samples // batch_size)"
      ]
    },
    {
      "cell_type": "markdown",
      "source": [
        "### Graficarémos el accuracy y loss de nuestro entrenamiento."
      ],
      "metadata": {
        "id": "TAmtOvaXmIo5"
      }
    },
    {
      "cell_type": "code",
      "execution_count": null,
      "metadata": {
        "id": "I69EqAlUlu6Y"
      },
      "outputs": [],
      "source": [
        "# Run to load the model history into a pandas DataFrame\n",
        "accuracy = history.history['accuracy']\n",
        "loss = history.history['loss']\n",
        "epochs = range(len(accuracy))"
      ]
    },
    {
      "cell_type": "code",
      "execution_count": null,
      "metadata": {
        "id": "Yn0ntbValwJl",
        "colab": {
          "base_uri": "https://localhost:8080/",
          "height": 316
        },
        "outputId": "89bfd6e8-7ed0-4d41-cd9a-279cb04fb940"
      },
      "outputs": [
        {
          "output_type": "execute_result",
          "data": {
            "text/plain": [
              "<Figure size 432x288 with 0 Axes>"
            ]
          },
          "metadata": {},
          "execution_count": 11
        },
        {
          "output_type": "display_data",
          "data": {
            "text/plain": [
              "<Figure size 432x288 with 1 Axes>"
            ],
            "image/png": "[encoded data removed]"
          },
          "metadata": {
            "needs_background": "light"
          }
        },
        {
          "output_type": "display_data",
          "data": {
            "text/plain": [
              "<Figure size 432x288 with 0 Axes>"
            ]
          },
          "metadata": {}
        }
      ],
      "source": [
        "# Run to make the Accuracy vs Epochs plot\n",
        "plt.plot(epochs, accuracy, 'r', label='Accuracy')\n",
        "plt.title('Accuracy vs Epochs')\n",
        "plt.legend()\n",
        "plt.figure()"
      ]
    },
    {
      "cell_type": "code",
      "execution_count": null,
      "metadata": {
        "id": "IKPX0AVulxfy",
        "colab": {
          "base_uri": "https://localhost:8080/",
          "height": 316
        },
        "outputId": "3a2e87ab-56bb-4a7e-dde8-9d141a14b3e7"
      },
      "outputs": [
        {
          "output_type": "execute_result",
          "data": {
            "text/plain": [
              "<Figure size 432x288 with 0 Axes>"
            ]
          },
          "metadata": {},
          "execution_count": 12
        },
        {
          "output_type": "display_data",
          "data": {
            "text/plain": [
              "<Figure size 432x288 with 1 Axes>"
            ],
            "image/png": "[encoded data removed]"
          },
          "metadata": {
            "needs_background": "light"
          }
        },
        {
          "output_type": "display_data",
          "data": {
            "text/plain": [
              "<Figure size 432x288 with 0 Axes>"
            ]
          },
          "metadata": {}
        }
      ],
      "source": [
        "# Run to make the Loss vs Epochs plot\n",
        "plt.plot(epochs, loss, 'r', label='Loss')\n",
        "plt.title('Loss vs Epochs')\n",
        "plt.legend()\n",
        "plt.figure()"
      ]
    },
    {
      "cell_type": "markdown",
      "source": [
        "### Evaluarémos el modelo con las imagenes preclasificadas que tenémos."
      ],
      "metadata": {
        "id": "VHH7mNrtmOPE"
      }
    },
    {
      "cell_type": "code",
      "execution_count": null,
      "metadata": {
        "id": "teH_xKxcDCI6",
        "colab": {
          "base_uri": "https://localhost:8080/"
        },
        "outputId": "7b64ddf8-87c9-4856-e2cf-72cf267507fa"
      },
      "outputs": [
        {
          "output_type": "stream",
          "name": "stdout",
          "text": [
            "Test Loss:  0.003451394848525524\n",
            "Test Accuracy:  0.9982486963272095\n"
          ]
        }
      ],
      "source": [
        "test_eval = model.evaluate(test_generator,verbose=0)\n",
        "print('Test Loss: ',test_eval[0])\n",
        "print('Test Accuracy: ',test_eval[1])"
      ]
    },
    {
      "cell_type": "markdown",
      "source": [
        "### Guardamos el modelo generado."
      ],
      "metadata": {
        "id": "_88ogSECmU-c"
      }
    },
    {
      "cell_type": "code",
      "source": [
        "model.save('/content/drive/Shareddrives/Caudales - Concentración/Reto/model_predicted2') "
      ],
      "metadata": {
        "id": "MI_CheQROA7d",
        "colab": {
          "base_uri": "https://localhost:8080/"
        },
        "outputId": "67452323-ba50-4513-d5f6-7afd938fc58b"
      },
      "execution_count": null,
      "outputs": [
        {
          "output_type": "stream",
          "name": "stderr",
          "text": [
            "WARNING:absl:Found untraced functions such as _jit_compiled_convolution_op, _jit_compiled_convolution_op, _jit_compiled_convolution_op, _jit_compiled_convolution_op, _jit_compiled_convolution_op while saving (showing 5 of 105). These functions will not be directly callable after loading.\n"
          ]
        }
      ]
    },
    {
      "cell_type": "markdown",
      "source": [
        "### Lo cargaremos, en caso de que no queramos volverlo a entrenar."
      ],
      "metadata": {
        "id": "UXMWGoFbmXhP"
      }
    },
    {
      "cell_type": "code",
      "source": [
        "model = keras.models.load_model('/content/drive/Shareddrives/Caudales - Concentración/Reto/model_predicted2')"
      ],
      "metadata": {
        "id": "JMKqHAVsBPb6"
      },
      "execution_count": 3,
      "outputs": []
    },
    {
      "cell_type": "markdown",
      "source": [
        "### Harémos la predicción de las imágenes evaluadas."
      ],
      "metadata": {
        "id": "A2Vl6txomc0r"
      }
    },
    {
      "cell_type": "code",
      "source": [
        "predict = model.predict(test_generator)"
      ],
      "metadata": {
        "id": "h_P6S9CmO1_B",
        "colab": {
          "base_uri": "https://localhost:8080/"
        },
        "outputId": "fc8260d0-9d8a-4fc5-996b-ddcd062cc5a8"
      },
      "execution_count": null,
      "outputs": [
        {
          "output_type": "stream",
          "name": "stdout",
          "text": [
            "72/72 [==============================] - 134s 2s/step\n"
          ]
        }
      ]
    },
    {
      "cell_type": "code",
      "source": [
        "print(predict)"
      ],
      "metadata": {
        "id": "FLZZZWS_L0B2",
        "colab": {
          "base_uri": "https://localhost:8080/"
        },
        "outputId": "dfb18019-49e1-4b1b-b7a7-a63961b6ff27"
      },
      "execution_count": null,
      "outputs": [
        {
          "output_type": "stream",
          "name": "stdout",
          "text": [
            "[[4.2669373e-13 1.0000000e+00]\n",
            " [1.0000000e+00 1.7029185e-10]\n",
            " [9.9745458e-01 2.5453628e-03]\n",
            " ...\n",
            " [1.6022113e-10 1.0000000e+00]\n",
            " [1.0000000e+00 8.5884591e-11]\n",
            " [1.4463742e-06 9.9999857e-01]]\n"
          ]
        }
      ]
    },
    {
      "cell_type": "markdown",
      "source": [
        "Clasificarémos la predicción para que quede en un solo número de la clase que se le asignó."
      ],
      "metadata": {
        "id": "cEZtT63Wmxh4"
      }
    },
    {
      "cell_type": "code",
      "source": [
        "predicted = []\n",
        "for pred in predict:\n",
        "    if pred[0] > pred[1]:\n",
        "        predicted.append(0)\n",
        "    else:\n",
        "        predicted.append(1)"
      ],
      "metadata": {
        "id": "2ReQFyrvO8kN"
      },
      "execution_count": null,
      "outputs": []
    },
    {
      "cell_type": "markdown",
      "source": [
        "### Generarémos la matriz de confusión que nos indica la efectividad de la predicción.\n",
        "\n",
        "En este caso, le costó trabajo distinguir las imágenes incorrectas."
      ],
      "metadata": {
        "id": "wHQOr5hdnsTR"
      }
    },
    {
      "cell_type": "code",
      "source": [
        "CM = confusion_matrix(train_generator.labels,predicted)\n",
        "disp = ConfusionMatrixDisplay(CM)\n",
        "disp.plot()"
      ],
      "metadata": {
        "id": "UDFd52rnQ0On",
        "colab": {
          "base_uri": "https://localhost:8080/",
          "height": 296
        },
        "outputId": "8f445dc7-bfa2-4110-e08a-c4314fb795ec"
      },
      "execution_count": null,
      "outputs": [
        {
          "output_type": "execute_result",
          "data": {
            "text/plain": [
              "<sklearn.metrics._plot.confusion_matrix.ConfusionMatrixDisplay at 0x7f741e154580>"
            ]
          },
          "metadata": {},
          "execution_count": 34
        },
        {
          "output_type": "display_data",
          "data": {
            "text/plain": [
              "<Figure size 432x288 with 2 Axes>"
            ],
            "image/png": "[encoded data removed]"
          },
          "metadata": {
            "needs_background": "light"
          }
        }
      ]
    },
    {
      "cell_type": "markdown",
      "source": [
        "## 2.- Clasificación de imagenes de temporadas consecutivas"
      ],
      "metadata": {
        "id": "UshSAoRFjBon"
      }
    },
    {
      "cell_type": "code",
      "execution_count": 12,
      "metadata": {
        "id": "g-tDj76BCPUq"
      },
      "outputs": [],
      "source": [
        "predict_data_dir = '/content/drive/Shareddrives/Caudales - Concentración/Imagenes/Prediction/Two Consecutive Seasons'"
      ]
    },
    {
      "cell_type": "code",
      "execution_count": 13,
      "metadata": {
        "id": "9ND9zA3-CSZS",
        "colab": {
          "base_uri": "https://localhost:8080/"
        },
        "outputId": "bf426077-c2a3-46f1-c970-2accaee6a41e"
      },
      "outputs": [
        {
          "output_type": "stream",
          "name": "stdout",
          "text": [
            "Found 1998 images belonging to 2 classes.\n"
          ]
        }
      ],
      "source": [
        "image_generator = test_datagen.flow_from_directory(\n",
        "    predict_data_dir,\n",
        "    target_size=(img_width, img_height),\n",
        "    batch_size=batch_size,\n",
        "    class_mode='binary')"
      ]
    },
    {
      "cell_type": "code",
      "execution_count": 15,
      "metadata": {
        "id": "jJ8DnX43Y5JO",
        "colab": {
          "base_uri": "https://localhost:8080/"
        },
        "outputId": "f53775f1-f2ba-4915-a795-def18ee14767"
      },
      "outputs": [
        {
          "output_type": "stream",
          "name": "stdout",
          "text": [
            "250/250 [==============================] - 458s 2s/step\n"
          ]
        }
      ],
      "source": [
        "predict = model.predict(image_generator)"
      ]
    },
    {
      "cell_type": "code",
      "source": [
        "print(predict)"
      ],
      "metadata": {
        "id": "6yqeKArk1HkT",
        "colab": {
          "base_uri": "https://localhost:8080/"
        },
        "outputId": "b5eb32fd-6fc4-4369-c86d-50a41d21ad6e"
      },
      "execution_count": 16,
      "outputs": [
        {
          "output_type": "stream",
          "name": "stdout",
          "text": [
            "[[1.0000000e+00 4.0537937e-10]\n",
            " [1.0000000e+00 3.6630674e-09]\n",
            " [9.9995530e-01 4.4685465e-05]\n",
            " ...\n",
            " [1.0000000e+00 3.2071451e-10]\n",
            " [1.0000000e+00 2.8585651e-11]\n",
            " [2.3618938e-13 1.0000000e+00]]\n"
          ]
        }
      ]
    },
    {
      "cell_type": "code",
      "source": [
        "two_season_list = []\n",
        "for pred in predict:\n",
        "  if pred[0] >= pred[1]:\n",
        "    two_season_list.append(0)\n",
        "  else:\n",
        "    two_season_list.append(1)\n",
        "\n",
        "print(two_season_list)"
      ],
      "metadata": {
        "id": "822ypbbXO9HS",
        "colab": {
          "base_uri": "https://localhost:8080/"
        },
        "outputId": "d640bf09-63fd-46be-9892-d0bd760bf845"
      },
      "execution_count": 17,
      "outputs": [
        {
          "output_type": "stream",
          "name": "stdout",
          "text": [
            "[0, 0, 0, 0, 0, 0, 0, 1, 0, 1, 0, 0, 0, 0, 0, 0, 0, 0, 1, 0, 0, 0, 0, 0, 0, 0, 0, 0, 0, 0, 0, 0, 1, 0, 1, 1, 0, 0, 0, 0, 0, 1, 0, 0, 1, 0, 1, 0, 0, 0, 0, 0, 0, 0, 0, 0, 0, 0, 0, 0, 0, 0, 0, 0, 1, 0, 0, 0, 0, 0, 0, 0, 0, 0, 0, 0, 0, 0, 1, 0, 0, 0, 1, 0, 0, 0, 1, 0, 1, 0, 0, 0, 0, 1, 0, 0, 0, 0, 0, 0, 0, 0, 0, 0, 0, 0, 0, 0, 1, 0, 0, 1, 1, 0, 0, 0, 0, 0, 0, 0, 0, 0, 0, 0, 0, 0, 0, 1, 0, 1, 1, 0, 0, 0, 0, 0, 0, 0, 0, 1, 0, 0, 0, 0, 0, 1, 0, 0, 0, 0, 0, 0, 0, 0, 0, 0, 0, 0, 0, 0, 0, 0, 0, 1, 0, 0, 0, 0, 0, 0, 0, 1, 0, 0, 0, 0, 0, 0, 0, 1, 0, 0, 0, 0, 1, 1, 0, 0, 0, 0, 0, 0, 0, 0, 0, 0, 0, 0, 0, 0, 0, 0, 0, 0, 0, 0, 1, 0, 0, 0, 0, 0, 0, 0, 0, 0, 0, 1, 0, 0, 0, 0, 1, 0, 1, 0, 0, 0, 0, 0, 0, 0, 0, 0, 0, 0, 0, 0, 0, 1, 0, 1, 0, 1, 1, 0, 0, 0, 0, 0, 0, 0, 0, 0, 0, 0, 0, 0, 0, 0, 0, 0, 0, 0, 0, 0, 0, 0, 0, 0, 0, 0, 1, 0, 0, 1, 0, 0, 0, 0, 1, 1, 0, 0, 0, 0, 0, 0, 0, 0, 1, 0, 0, 0, 1, 0, 0, 0, 0, 0, 0, 0, 0, 0, 0, 1, 0, 0, 1, 1, 0, 0, 0, 0, 1, 0, 0, 0, 0, 0, 0, 0, 0, 0, 0, 0, 0, 0, 0, 0, 0, 0, 0, 0, 0, 0, 1, 0, 0, 1, 0, 0, 0, 0, 0, 0, 0, 0, 0, 0, 0, 1, 0, 1, 0, 1, 0, 0, 1, 1, 0, 0, 0, 0, 0, 1, 0, 0, 0, 0, 0, 0, 0, 0, 1, 1, 0, 0, 0, 0, 0, 0, 0, 0, 0, 0, 0, 0, 0, 1, 0, 0, 1, 1, 0, 0, 0, 0, 1, 0, 0, 1, 1, 0, 0, 0, 0, 0, 0, 0, 0, 1, 0, 0, 0, 0, 0, 0, 0, 0, 0, 0, 1, 0, 1, 0, 0, 0, 0, 0, 0, 0, 0, 0, 0, 0, 0, 0, 0, 0, 0, 0, 0, 0, 0, 0, 0, 0, 0, 0, 1, 0, 0, 1, 0, 0, 0, 0, 0, 0, 0, 1, 0, 0, 0, 0, 0, 0, 0, 1, 0, 0, 0, 0, 0, 0, 0, 0, 0, 0, 0, 0, 0, 0, 1, 0, 0, 0, 0, 0, 0, 0, 0, 0, 0, 1, 0, 1, 0, 1, 0, 0, 1, 0, 0, 0, 0, 0, 0, 0, 1, 0, 0, 0, 1, 1, 0, 0, 0, 0, 1, 0, 0, 0, 0, 0, 0, 0, 0, 0, 0, 0, 0, 1, 0, 1, 0, 0, 1, 1, 1, 1, 1, 0, 0, 0, 0, 0, 0, 0, 0, 0, 0, 0, 0, 0, 0, 0, 1, 0, 1, 0, 0, 0, 0, 0, 1, 0, 0, 0, 0, 1, 1, 0, 1, 1, 0, 0, 0, 0, 0, 1, 1, 0, 0, 0, 0, 1, 0, 0, 1, 0, 0, 1, 0, 1, 0, 1, 0, 1, 0, 0, 0, 0, 0, 0, 0, 0, 0, 0, 0, 0, 0, 0, 0, 1, 0, 1, 0, 0, 0, 0, 1, 1, 0, 0, 0, 0, 0, 0, 0, 0, 0, 0, 0, 0, 0, 0, 0, 0, 1, 0, 0, 0, 0, 0, 0, 0, 1, 0, 0, 0, 1, 0, 0, 1, 0, 0, 0, 1, 1, 0, 0, 1, 0, 0, 0, 1, 0, 0, 0, 0, 0, 0, 0, 0, 0, 0, 1, 0, 0, 0, 0, 0, 0, 0, 0, 0, 0, 0, 0, 0, 1, 0, 0, 0, 0, 0, 0, 0, 0, 1, 1, 0, 0, 1, 0, 0, 0, 0, 0, 0, 0, 0, 0, 0, 0, 0, 1, 0, 0, 0, 0, 0, 0, 0, 0, 1, 1, 0, 0, 0, 0, 0, 0, 0, 0, 0, 0, 0, 0, 0, 0, 0, 0, 1, 1, 1, 0, 0, 0, 0, 0, 1, 0, 0, 0, 0, 0, 1, 1, 0, 0, 0, 0, 0, 0, 0, 0, 0, 0, 1, 0, 0, 1, 0, 0, 0, 0, 1, 1, 0, 1, 0, 0, 0, 0, 0, 0, 1, 0, 1, 0, 0, 1, 0, 1, 0, 0, 0, 0, 1, 0, 1, 0, 1, 0, 0, 0, 0, 0, 0, 0, 0, 0, 1, 0, 0, 0, 0, 0, 0, 0, 0, 0, 0, 0, 0, 0, 0, 0, 0, 0, 0, 0, 0, 0, 0, 0, 0, 0, 0, 0, 0, 0, 0, 0, 1, 1, 0, 1, 0, 0, 0, 0, 1, 0, 0, 0, 1, 0, 0, 1, 0, 0, 1, 0, 0, 0, 0, 0, 0, 1, 0, 0, 0, 0, 0, 0, 0, 0, 0, 1, 1, 0, 0, 1, 0, 0, 1, 0, 0, 0, 0, 0, 0, 0, 0, 0, 0, 0, 0, 0, 0, 0, 0, 0, 0, 0, 0, 0, 0, 0, 0, 0, 1, 0, 0, 0, 0, 0, 0, 1, 0, 0, 0, 0, 0, 0, 0, 0, 0, 0, 0, 1, 0, 0, 0, 0, 0, 0, 0, 0, 0, 0, 0, 0, 0, 0, 1, 0, 0, 0, 0, 0, 0, 0, 1, 0, 0, 0, 0, 0, 1, 1, 0, 0, 0, 0, 0, 0, 0, 0, 0, 0, 0, 0, 0, 0, 1, 0, 1, 0, 0, 0, 0, 0, 0, 1, 0, 0, 0, 0, 0, 1, 1, 0, 0, 0, 0, 0, 0, 0, 0, 0, 0, 0, 1, 0, 0, 0, 0, 0, 0, 1, 0, 1, 1, 0, 0, 0, 0, 0, 0, 0, 0, 1, 0, 0, 0, 0, 0, 0, 1, 0, 0, 0, 0, 0, 0, 0, 0, 0, 0, 0, 0, 0, 0, 0, 0, 1, 0, 0, 1, 0, 1, 1, 0, 0, 0, 0, 0, 0, 0, 0, 0, 0, 0, 0, 0, 0, 0, 0, 0, 0, 0, 1, 0, 0, 0, 0, 1, 1, 0, 0, 0, 0, 0, 0, 0, 0, 0, 0, 0, 0, 0, 0, 0, 0, 0, 0, 1, 0, 0, 0, 1, 0, 0, 0, 0, 0, 0, 0, 0, 0, 0, 0, 0, 0, 0, 0, 1, 0, 0, 0, 0, 0, 1, 0, 0, 1, 0, 0, 0, 0, 0, 0, 0, 0, 0, 0, 0, 0, 0, 1, 1, 1, 0, 0, 1, 0, 0, 0, 0, 0, 0, 0, 0, 0, 1, 0, 0, 0, 0, 1, 0, 0, 0, 0, 1, 0, 0, 1, 0, 0, 0, 0, 0, 0, 0, 0, 1, 1, 0, 0, 0, 0, 1, 0, 0, 0, 0, 0, 0, 0, 0, 1, 0, 0, 0, 0, 1, 0, 1, 0, 0, 0, 0, 0, 1, 0, 0, 0, 1, 0, 0, 0, 0, 0, 0, 0, 0, 1, 0, 0, 0, 0, 0, 0, 0, 0, 0, 0, 0, 0, 0, 0, 1, 0, 0, 0, 0, 0, 0, 0, 0, 0, 0, 0, 1, 1, 0, 0, 0, 0, 0, 1, 0, 0, 0, 0, 0, 0, 0, 0, 1, 1, 0, 0, 0, 0, 0, 0, 0, 0, 0, 0, 0, 0, 0, 1, 0, 0, 0, 0, 0, 0, 0, 0, 0, 0, 0, 1, 0, 0, 1, 0, 0, 1, 0, 0, 0, 0, 1, 0, 0, 0, 0, 0, 0, 0, 0, 0, 0, 0, 1, 1, 0, 0, 0, 0, 0, 0, 0, 0, 1, 0, 0, 0, 0, 1, 0, 0, 0, 0, 0, 1, 0, 1, 0, 0, 0, 0, 0, 1, 1, 0, 0, 0, 0, 0, 0, 0, 0, 0, 0, 1, 1, 0, 1, 1, 0, 0, 0, 1, 0, 0, 0, 0, 1, 0, 0, 0, 0, 0, 1, 0, 0, 0, 0, 0, 0, 0, 0, 0, 0, 0, 0, 0, 0, 0, 0, 0, 1, 0, 0, 0, 0, 0, 0, 0, 0, 0, 1, 0, 0, 0, 0, 0, 1, 0, 0, 0, 1, 1, 1, 0, 0, 0, 0, 0, 0, 0, 0, 1, 0, 0, 0, 0, 0, 0, 0, 0, 1, 0, 0, 0, 0, 0, 0, 0, 0, 1, 0, 0, 0, 0, 0, 0, 1, 0, 0, 0, 1, 0, 0, 0, 0, 0, 1, 0, 0, 0, 0, 0, 0, 0, 1, 0, 0, 0, 0, 0, 0, 1, 0, 0, 0, 0, 1, 0, 0, 0, 0, 1, 0, 0, 0, 1, 0, 0, 0, 0, 0, 0, 0, 0, 0, 0, 0, 0, 0, 0, 0, 0, 0, 0, 0, 0, 1, 1, 0, 0, 0, 0, 0, 0, 0, 0, 0, 0, 1, 0, 0, 1, 0, 0, 1, 0, 0, 0, 0, 0, 0, 0, 0, 0, 0, 0, 0, 0, 0, 0, 1, 0, 0, 0, 0, 1, 0, 0, 0, 0, 0, 0, 1, 0, 0, 0, 0, 0, 0, 0, 1, 0, 0, 0, 0, 0, 0, 1, 0, 0, 0, 0, 0, 0, 0, 1, 0, 0, 0, 0, 1, 1, 0, 0, 0, 0, 0, 0, 0, 1, 1, 0, 0, 0, 0, 0, 0, 0, 0, 0, 0, 0, 0, 0, 1, 1, 1, 0, 0, 0, 0, 0, 1, 0, 0, 0, 0, 0, 0, 1, 0, 1, 0, 0, 0, 0, 0, 0, 0, 0, 0, 0, 0, 0, 1, 0, 0, 0, 0, 1, 0, 0, 0, 0, 1, 0, 0, 0, 0, 0, 1, 0, 0, 1, 0, 0, 0, 0, 0, 0, 0, 0, 0, 0, 1, 0, 1, 0, 0, 1, 0, 0, 0, 0, 0, 0, 0, 0, 0, 0, 0, 0, 0, 0, 1, 0, 1, 0, 0, 1, 0, 0, 0, 0, 1, 1, 1, 0, 0, 1, 0, 0, 0, 0, 0, 0, 0, 0, 0, 0, 1, 0, 0, 0, 0, 0, 0, 0, 0, 0, 0, 0, 0, 1, 0, 1, 0, 0, 1, 0, 1, 0, 0, 1, 1, 0, 0, 0, 0, 0, 0, 0, 0, 0, 0, 0, 0, 0, 0, 0, 1, 0, 0, 0, 0, 0, 1, 0, 1, 0, 0, 0, 0, 0, 0, 0, 0, 0, 1, 0, 0, 0, 0, 1, 0, 0, 0, 0, 0, 0, 0, 0, 0, 0, 0, 1, 0, 0, 1, 0, 0, 0, 0, 0, 0, 0, 0, 0, 0, 1, 0, 0, 0, 0, 0, 0, 0, 1, 1, 0, 0, 0, 0, 1, 0, 0, 0, 0, 0, 0, 0, 1, 0, 0, 0, 0, 0, 0, 0, 0, 0, 0, 1, 0, 0, 0, 0, 0, 1, 0, 0, 0, 0, 0, 0, 0, 0, 0, 0, 0, 0, 1, 0, 0, 0, 1, 0, 0, 0, 0, 0, 0, 0, 0, 0, 0, 0, 0, 0, 0, 0, 0, 0, 1, 1, 0, 0, 0, 1, 0, 1, 0, 0, 1, 0, 0, 0, 0, 0, 0, 0, 1, 0, 0, 0, 0, 0, 1, 0, 0, 0, 0, 0, 0, 0, 0, 0, 0, 0, 1, 0, 0, 0, 0, 0, 0, 0, 0, 0, 0, 0, 0, 0, 0, 0, 0, 0, 0, 0, 0, 0, 0, 0, 1, 0, 0, 1, 0, 0, 0, 0, 0, 0, 0, 1, 0, 0, 0, 1, 0, 0, 0, 1, 1, 0, 1, 0, 0, 0, 0, 0, 0, 0, 1, 0, 0, 0, 0, 0, 0, 0, 0, 0, 0, 0, 0, 0, 1, 0, 1, 0, 0, 0, 0, 0, 0, 0, 0, 1, 0, 0, 1, 0, 0, 1]\n"
          ]
        }
      ]
    },
    {
      "cell_type": "code",
      "source": [
        "ans = []\n",
        "for file, pred in zip(image_generator.filenames,two_season_list):\n",
        "    file = file.replace('20190804', '',1)\n",
        "    file = file.replace('20190920', '',1)\n",
        "    file = file.replace(' (1)', '',1)\n",
        "    file = file.replace('/', '')\n",
        "    if pred == 1:\n",
        "      ans.append([file])\n",
        "print(ans)"
      ],
      "metadata": {
        "id": "j8DW-jw9_7Ji",
        "colab": {
          "base_uri": "https://localhost:8080/"
        },
        "outputId": "bf55e125-c36e-4d22-f605-933d8da86790"
      },
      "execution_count": 18,
      "outputs": [
        {
          "output_type": "stream",
          "name": "stdout",
          "text": [
            "[['20170303StateLineWeir_20170303_Farrell_008.jpg'], ['20170303StateLineWeir_20170303_Farrell_010.jpg'], ['20170303StateLineWeir_20170304_Farrell_019.jpg'], ['20170303StateLineWeir_20170304_Farrell_033.jpg'], ['20170303StateLineWeir_20170304_Farrell_035.jpg'], ['20170303StateLineWeir_20170304_Farrell_036.jpg'], ['20170303StateLineWeir_20170304_Farrell_042.jpg'], ['20170303StateLineWeir_20170305_Farrell_045.jpg'], ['20170303StateLineWeir_20170305_Farrell_047.jpg'], ['20170303StateLineWeir_20170305_Farrell_065.jpg'], ['20170303StateLineWeir_20170306_Farrell_079.jpg'], ['20170303StateLineWeir_20170306_Farrell_083.jpg'], ['20170303StateLineWeir_20170306_Farrell_087.jpg'], ['20170303StateLineWeir_20170306_Farrell_089.jpg'], ['20170303StateLineWeir_20170306_Farrell_094.jpg'], ['20170303StateLineWeir_20170307_Farrell_109.jpg'], ['20170303StateLineWeir_20170307_Farrell_112.jpg'], ['20170303StateLineWeir_20170307_Farrell_113.jpg'], ['20170303StateLineWeir_20170308_Farrell_128.jpg'], ['20170303StateLineWeir_20170308_Farrell_130.jpg'], ['20170303StateLineWeir_20170308_Farrell_131.jpg'], ['20170303StateLineWeir_20170308_Farrell_140.jpg'], ['20170303StateLineWeir_20170308_Farrell_146.jpg'], ['20170303StateLineWeir_20170309_Farrell_164.jpg'], ['20170303StateLineWeir_20170309_Farrell_172.jpg'], ['20170303StateLineWeir_20170309_Farrell_180.jpg'], ['20170303StateLineWeir_20170310_Farrell_185.jpg'], ['20170303StateLineWeir_20170310_Farrell_186.jpg'], ['20170303StateLineWeir_20170310_Farrell_207.jpg'], ['20170303StateLineWeir_20170311_Farrell_218.jpg'], ['20170303StateLineWeir_20170311_Farrell_223.jpg'], ['20170303StateLineWeir_20170311_Farrell_225.jpg'], ['20170303StateLineWeir_20170312_Farrell_240.jpg'], ['20170303StateLineWeir_20170312_Farrell_242.jpg'], ['20170303StateLineWeir_20170312_Farrell_244.jpg'], ['20170303StateLineWeir_20170312_Farrell_245.jpg'], ['20170303StateLineWeir_20170313_Farrell_273.jpg'], ['20170303StateLineWeir_20170313_Farrell_276.jpg'], ['20170303StateLineWeir_20170313_Farrell_281.jpg'], ['20170303StateLineWeir_20170313_Farrell_282.jpg'], ['20170303StateLineWeir_20170313_Farrell_291.jpg'], ['20170303StateLineWeir_20170314_Farrell_295.jpg'], ['20170303StateLineWeir_20170314_Farrell_306.jpg'], ['20170303StateLineWeir_20170314_Farrell_309.jpg'], ['20170303StateLineWeir_20170314_Farrell_310.jpg'], ['20170303StateLineWeir_20170314_Farrell_315.jpg'], ['20170303StateLineWeir_20170315_Farrell_337.jpg'], ['20170303StateLineWeir_20170315_Farrell_340.jpg'], ['20170303StateLineWeir_20170316_Farrell_352.jpg'], ['20170303StateLineWeir_20170316_Farrell_354.jpg'], ['20170303StateLineWeir_20170316_Farrell_356.jpg'], ['20170303StateLineWeir_20170316_Farrell_359.jpg'], ['20170303StateLineWeir_20170316_Farrell_360.jpg'], ['20170303StateLineWeir_20170316_Farrell_366.jpg'], ['20170303StateLineWeir_20170316_Farrell_375.jpg'], ['20170303StateLineWeir_20170316_Farrell_376.jpg'], ['20170303StateLineWeir_20170317_Farrell_390.jpg'], ['20170303StateLineWeir_20170317_Farrell_393.jpg'], ['20170303StateLineWeir_20170317_Farrell_394.jpg'], ['20170303StateLineWeir_20170317_Farrell_399.jpg'], ['20170303StateLineWeir_20170318_Farrell_402.jpg'], ['20170303StateLineWeir_20170318_Farrell_403.jpg'], ['20170303StateLineWeir_20170318_Farrell_412.jpg'], ['20170303StateLineWeir_20170318_Farrell_423.jpg'], ['20170303StateLineWeir_20170318_Farrell_425.jpg'], ['20170303StateLineWeir_20170319_Farrell_451.jpg'], ['20170303StateLineWeir_20170320_Farrell_454.jpg'], ['20170303StateLineWeir_20170320_Farrell_462.jpg'], ['20170303StateLineWeir_20170320_Farrell_470.jpg'], ['20170303StateLineWeir_20170321_Farrell_485.jpg'], ['20170303StateLineWeir_20170321_Farrell_496.jpg'], ['20170303StateLineWeir_20170321_Farrell_498.jpg'], ['20170303StateLineWeir_20170321_Farrell_500.jpg'], ['20170303StateLineWeir_20170321_Farrell_503.jpg'], ['20170303StateLineWeir_20170322_Farrell_511.jpg'], ['20170303StateLineWeir_20170322_Farrell_515.jpg'], ['20170303StateLineWeir_20170322_Farrell_516.jpg'], ['20170303StateLineWeir_20170322_Farrell_521.jpg'], ['20170303StateLineWeir_20170322_Farrell_534.jpg'], ['20170303StateLineWeir_20170323_Farrell_536.jpg'], ['20170303StateLineWeir_20170323_Farrell_539.jpg'], ['20170303StateLineWeir_20170323_Farrell_540.jpg'], ['20170303StateLineWeir_20170323_Farrell_541.jpg'], ['20170303StateLineWeir_20170323_Farrell_542.jpg'], ['20170303StateLineWeir_20170323_Farrell_543.jpg'], ['20170303StateLineWeir_20170323_Farrell_559.jpg'], ['20170303StateLineWeir_20170323_Farrell_561.jpg'], ['20170303StateLineWeir_20170324_Farrell_567.jpg'], ['20170303StateLineWeir_20170324_Farrell_572.jpg'], ['20170303StateLineWeir_20170324_Farrell_573.jpg'], ['20170303StateLineWeir_20170324_Farrell_575.jpg'], ['20170303StateLineWeir_20170324_Farrell_576.jpg'], ['20170303StateLineWeir_20170324_Farrell_582.jpg'], ['20170303StateLineWeir_20170324_Farrell_583.jpg'], ['20170303StateLineWeir_20170324_Farrell_588.jpg'], ['20170303StateLineWeir_20170324_Farrell_591.jpg'], ['20170303StateLineWeir_20170325_Farrell_594.jpg'], ['20170303StateLineWeir_20170325_Farrell_596.jpg'], ['20170303StateLineWeir_20170325_Farrell_598.jpg'], ['20170303StateLineWeir_20170325_Farrell_600.jpg'], ['20170303StateLineWeir_20170325_Farrell_616.jpg'], ['20170303StateLineWeir_20170325_Farrell_618.jpg'], ['20170303StateLineWeir_20170326_Farrell_623.jpg'], ['20170303StateLineWeir_20170326_Farrell_624.jpg'], ['20170303StateLineWeir_20170326_Farrell_641.jpg'], ['20170303StateLineWeir_20170327_Farrell_649.jpg'], ['20170303StateLineWeir_20170327_Farrell_653.jpg'], ['20170303StateLineWeir_20170327_Farrell_656.jpg'], ['20170303StateLineWeir_20170327_Farrell_660.jpg'], ['20170303StateLineWeir_20170327_Farrell_661.jpg'], ['20170303StateLineWeir_20170327_Farrell_664.jpg'], ['20170303StateLineWeir_20170327_Farrell_668.jpg'], ['20170303StateLineWeir_20170328_Farrell_679.jpg'], ['20170303StateLineWeir_20170328_Farrell_693.jpg'], ['20170303StateLineWeir_20170328_Farrell_702.jpg'], ['20170303StateLineWeir_20170328_Farrell_703.jpg'], ['20170303StateLineWeir_20170329_Farrell_706.jpg'], ['20170303StateLineWeir_20170329_Farrell_719.jpg'], ['20170303StateLineWeir_20170329_Farrell_728.jpg'], ['20170303StateLineWeir_20170329_Farrell_729.jpg'], ['20170303StateLineWeir_20170330_Farrell_746.jpg'], ['20170303StateLineWeir_20170330_Farrell_747.jpg'], ['20170303StateLineWeir_20170330_Farrell_748.jpg'], ['20170303StateLineWeir_20170330_Farrell_754.jpg'], ['20170303StateLineWeir_20170331_Farrell_760.jpg'], ['20170303StateLineWeir_20170331_Farrell_761.jpg'], ['20170303StateLineWeir_20170331_Farrell_772.jpg'], ['20170303StateLineWeir_20170331_Farrell_775.jpg'], ['20170303StateLineWeir_20170331_Farrell_780.jpg'], ['20170303StateLineWeir_20170331_Farrell_781.jpg'], ['20170303StateLineWeir_20170331_Farrell_783.jpg'], ['20170303StateLineWeir_20170401_Farrell_790.jpg'], ['20170303StateLineWeir_20170401_Farrell_792.jpg'], ['20170303StateLineWeir_20170401_Farrell_795.jpg'], ['20170303StateLineWeir_20170401_Farrell_797.jpg'], ['20170303StateLineWeir_20170401_Farrell_802.jpg'], ['20170303StateLineWeir_20170401_Farrell_804.jpg'], ['20170303StateLineWeir_20170401_Farrell_806.jpg'], ['20170303StateLineWeir_20170402_Farrell_816.jpg'], ['20170303StateLineWeir_20170403_Farrell_848.jpg'], ['20170303StateLineWeir_20170403_Farrell_849.jpg'], ['20170303StateLineWeir_20170403_Farrell_851.jpg'], ['20170303StateLineWeir_20170403_Farrell_856.jpg'], ['20170303StateLineWeir_20170403_Farrell_860.jpg'], ['20170303StateLineWeir_20170403_Farrell_863.jpg'], ['20170303StateLineWeir_20170403_Farrell_866.jpg'], ['20170303StateLineWeir_20170404_Farrell_873.jpg'], ['20170303StateLineWeir_20170404_Farrell_883.jpg'], ['20170303StateLineWeir_20170404_Farrell_884.jpg'], ['20170303StateLineWeir_20170404_Farrell_887.jpg'], ['20170303StateLineWeir_20170404_Farrell_890.jpg'], ['20170303StateLineWeir_20170405_Farrell_916.jpg'], ['20170303StateLineWeir_20170405_Farrell_923.jpg'], ['20170303StateLineWeir_20170406_Farrell_935.jpg'], ['20170303StateLineWeir_20170406_Farrell_950.jpg'], ['20170303StateLineWeir_20170407_Farrell_958.jpg'], ['20170303StateLineWeir_20170407_Farrell_964.jpg'], ['20170303StateLineWeir_20170407_Farrell_965.jpg'], ['20170303StateLineWeir_20170407_Farrell_980.jpg'], ['20170303StateLineWeir_20170407_Farrell_982.jpg'], ['20170303StateLineWeir_20170408_Farrell_989.jpg'], ['20170303StateLineWeir_20170408_Farrell_995.jpg'], ['20170303StateLineWeir_20170408_Farrell_996.jpg'], ['20170514StateLineWeir_20170514_Farrell_009.jpg'], ['20170514StateLineWeir_20170514_Farrell_016.jpg'], ['20170514StateLineWeir_20170515_Farrell_018.jpg'], ['20170514StateLineWeir_20170515_Farrell_019.jpg'], ['20170514StateLineWeir_20170515_Farrell_028.jpg'], ['20170514StateLineWeir_20170515_Farrell_035.jpg'], ['20170514StateLineWeir_20170516_Farrell_052.jpg'], ['20170514StateLineWeir_20170516_Farrell_055.jpg'], ['20170514StateLineWeir_20170516_Farrell_057.jpg'], ['20170514StateLineWeir_20170516_Farrell_058.jpg'], ['20170514StateLineWeir_20170517_Farrell_078.jpg'], ['20170514StateLineWeir_20170517_Farrell_083.jpg'], ['20170514StateLineWeir_20170517_Farrell_084.jpg'], ['20170514StateLineWeir_20170518_Farrell_103.jpg'], ['20170514StateLineWeir_20170518_Farrell_107.jpg'], ['20170514StateLineWeir_20170518_Farrell_123.jpg'], ['20170514StateLineWeir_20170519_Farrell_129.jpg'], ['20170514StateLineWeir_20170519_Farrell_132.jpg'], ['20170514StateLineWeir_20170519_Farrell_146.jpg'], ['20170514StateLineWeir_20170519_Farrell_147.jpg'], ['20170514StateLineWeir_20170519_Farrell_148.jpg'], ['20170514StateLineWeir_20170519_Farrell_151.jpg'], ['20170514StateLineWeir_20170520_Farrell_161.jpg'], ['20170514StateLineWeir_20170520_Farrell_166.jpg'], ['20170514StateLineWeir_20170520_Farrell_171.jpg'], ['20170514StateLineWeir_20170520_Farrell_174.jpg'], ['20170514StateLineWeir_20170521_Farrell_183.jpg'], ['20170514StateLineWeir_20170521_Farrell_184.jpg'], ['20170514StateLineWeir_20170521_Farrell_189.jpg'], ['20170514StateLineWeir_20170521_Farrell_198.jpg'], ['20170514StateLineWeir_20170521_Farrell_203.jpg'], ['20170514StateLineWeir_20170521_Farrell_205.jpg'], ['20170514StateLineWeir_20170522_Farrell_211.jpg'], ['20170514StateLineWeir_20170522_Farrell_215.jpg'], ['20170514StateLineWeir_20170522_Farrell_224.jpg'], ['20170514StateLineWeir_20170523_Farrell_239.jpg'], ['20170514StateLineWeir_20170523_Farrell_251.jpg'], ['20170514StateLineWeir_20170523_Farrell_252.jpg'], ['20170514StateLineWeir_20170523_Farrell_258.jpg'], ['20170514StateLineWeir_20170524_Farrell_267.jpg'], ['20170514StateLineWeir_20170524_Farrell_268.jpg'], ['20170514StateLineWeir_20170524_Farrell_282.jpg'], ['20170514StateLineWeir_20170524_Farrell_294.jpg'], ['20170514StateLineWeir_20170525_Farrell_297.jpg'], ['20170514StateLineWeir_20170525_Farrell_300.jpg'], ['20170514StateLineWeir_20170525_Farrell_305.jpg'], ['20170514StateLineWeir_20170525_Farrell_317.jpg'], ['20170514StateLineWeir_20170525_Farrell_318.jpg'], ['20170514StateLineWeir_20170526_Farrell_327.jpg'], ['20170514StateLineWeir_20170526_Farrell_332.jpg'], ['20170514StateLineWeir_20170526_Farrell_338.jpg'], ['20170514StateLineWeir_20170526_Farrell_340.jpg'], ['20170514StateLineWeir_20170526_Farrell_346.jpg'], ['20170514StateLineWeir_20170526_Farrell_347.jpg'], ['20170514StateLineWeir_20170527_Farrell_358.jpg'], ['20170514StateLineWeir_20170527_Farrell_359.jpg'], ['20170514StateLineWeir_20170527_Farrell_361.jpg'], ['20170514StateLineWeir_20170527_Farrell_362.jpg'], ['20170514StateLineWeir_20170527_Farrell_366.jpg'], ['20170514StateLineWeir_20170527_Farrell_371.jpg'], ['20170514StateLineWeir_20170527_Farrell_377.jpg'], ['20170514StateLineWeir_20170528_Farrell_395.jpg'], ['20170514StateLineWeir_20170528_Farrell_405.jpg'], ['20170514StateLineWeir_20170529_Farrell_411.jpg'], ['20170514StateLineWeir_20170529_Farrell_415.jpg'], ['20170514StateLineWeir_20170529_Farrell_416.jpg'], ['20170514StateLineWeir_20170529_Farrell_417.jpg'], ['20170514StateLineWeir_20170529_Farrell_426.jpg'], ['20170514StateLineWeir_20170530_Farrell_435.jpg'], ['20170514StateLineWeir_20170530_Farrell_444.jpg'], ['20170514StateLineWeir_20170530_Farrell_451.jpg'], ['20170514StateLineWeir_20170530_Farrell_455.jpg'], ['20170514StateLineWeir_20170530_Farrell_461.jpg'], ['20170514StateLineWeir_20170531_Farrell_469.jpg'], ['20170514StateLineWeir_20170531_Farrell_476.jpg'], ['20170514StateLineWeir_20170531_Farrell_481.jpg'], ['20170514StateLineWeir_20170531_Farrell_486.jpg'], ['20170514StateLineWeir_20170601_Farrell_490.jpg'], ['20170514StateLineWeir_20170601_Farrell_511.jpg'], ['20170514StateLineWeir_20170601_Farrell_512.jpg'], ['20170514StateLineWeir_20170602_Farrell_523.jpg'], ['20170514StateLineWeir_20170602_Farrell_526.jpg'], ['20170514StateLineWeir_20170602_Farrell_529.jpg'], ['20170514StateLineWeir_20170602_Farrell_545.jpg'], ['20170514StateLineWeir_20170603_Farrell_550.jpg'], ['20170514StateLineWeir_20170603_Farrell_557.jpg'], ['20170514StateLineWeir_20170603_Farrell_565.jpg'], ['20170514StateLineWeir_20170603_Farrell_572.jpg'], ['20170514StateLineWeir_20170604_Farrell_580.jpg'], ['20170514StateLineWeir_20170604_Farrell_585.jpg'], ['20170514StateLineWeir_20170604_Farrell_586.jpg'], ['20170514StateLineWeir_20170604_Farrell_594.jpg'], ['20170514StateLineWeir_20170604_Farrell_595.jpg'], ['20170514StateLineWeir_20170605_Farrell_609.jpg'], ['20170514StateLineWeir_20170605_Farrell_610.jpg'], ['20170514StateLineWeir_20170605_Farrell_611.jpg'], ['20170514StateLineWeir_20170605_Farrell_617.jpg'], ['20170514StateLineWeir_20170605_Farrell_624.jpg'], ['20170514StateLineWeir_20170605_Farrell_626.jpg'], ['20170514StateLineWeir_20170606_Farrell_639.jpg'], ['20170514StateLineWeir_20170606_Farrell_644.jpg'], ['20170514StateLineWeir_20170606_Farrell_649.jpg'], ['20170514StateLineWeir_20170606_Farrell_655.jpg'], ['20170514StateLineWeir_20170607_Farrell_658.jpg'], ['20170514StateLineWeir_20170607_Farrell_669.jpg'], ['20170514StateLineWeir_20170607_Farrell_671.jpg'], ['20170514StateLineWeir_20170607_Farrell_674.jpg'], ['20170514StateLineWeir_20170608_Farrell_689.jpg'], ['20170514StateLineWeir_20170608_Farrell_691.jpg'], ['20170514StateLineWeir_20170608_Farrell_694.jpg'], ['20170514StateLineWeir_20170608_Farrell_699.jpg'], ['20170514StateLineWeir_20170608_Farrell_700.jpg'], ['20170514StateLineWeir_20170608_Farrell_701.jpg'], ['20170514StateLineWeir_20170608_Farrell_704.jpg'], ['20170514StateLineWeir_20170609_Farrell_715.jpg'], ['20170514StateLineWeir_20170609_Farrell_728.jpg'], ['20170514StateLineWeir_20170609_Farrell_730.jpg'], ['20170514StateLineWeir_20170609_Farrell_733.jpg'], ['20170514StateLineWeir_20170609_Farrell_735.jpg'], ['20170514StateLineWeir_20170609_Farrell_738.jpg'], ['20170514StateLineWeir_20170609_Farrell_739.jpg'], ['20170514StateLineWeir_20170610_Farrell_755.jpg'], ['20170514StateLineWeir_20170610_Farrell_761.jpg'], ['20170514StateLineWeir_20170610_Farrell_763.jpg'], ['20170514StateLineWeir_20170611_Farrell_773.jpg'], ['20170514StateLineWeir_20170611_Farrell_778.jpg'], ['20170514StateLineWeir_20170611_Farrell_790.jpg'], ['20170514StateLineWeir_20170611_Farrell_793.jpg'], ['20170514StateLineWeir_20170612_Farrell_804.jpg'], ['20170514StateLineWeir_20170612_Farrell_812.jpg'], ['20170514StateLineWeir_20170612_Farrell_813.jpg'], ['20170514StateLineWeir_20170612_Farrell_818.jpg'], ['20170514StateLineWeir_20170613_Farrell_826.jpg'], ['20170514StateLineWeir_20170613_Farrell_837.jpg'], ['20170514StateLineWeir_20170613_Farrell_843.jpg'], ['20170514StateLineWeir_20170614_Farrell_856.jpg'], ['20170514StateLineWeir_20170614_Farrell_860.jpg'], ['20170514StateLineWeir_20170614_Farrell_878.jpg'], ['20170514StateLineWeir_20170614_Farrell_879.jpg'], ['20170514StateLineWeir_20170615_Farrell_883.jpg'], ['20170514StateLineWeir_20170615_Farrell_885.jpg'], ['20170514StateLineWeir_20170615_Farrell_888.jpg'], ['20170514StateLineWeir_20170615_Farrell_896.jpg'], ['20170514StateLineWeir_20170615_Farrell_902.jpg'], ['20170514StateLineWeir_20170616_Farrell_914.jpg'], ['20170514StateLineWeir_20170617_Farrell_938.jpg'], ['20170514StateLineWeir_20170617_Farrell_941.jpg'], ['20170514StateLineWeir_20170617_Farrell_949.jpg'], ['20170514StateLineWeir_20170617_Farrell_953.jpg'], ['20170514StateLineWeir_20170617_Farrell_957.jpg'], ['20170514StateLineWeir_20170617_Farrell_958.jpg'], ['20170514StateLineWeir_20170617_Farrell_960.jpg'], ['20170514StateLineWeir_20170618_Farrell_968.jpg'], ['20170514StateLineWeir_20170618_Farrell_982.jpg'], ['20170514StateLineWeir_20170618_Farrell_984.jpg'], ['20170514StateLineWeir_20170619_Farrell_993.jpg'], ['20170514StateLineWeir_20170619_Farrell_996.jpg'], ['20170514StateLineWeir_20170619_Farrell_999.jpg']]\n"
          ]
        }
      ]
    },
    {
      "cell_type": "code",
      "source": [
        "np.savetxt(\"/content/drive/Shareddrives/Caudales - Concentración/Reto/Dataset/consecutive_seasons.csv\", \n",
        "           ans,\n",
        "           delimiter =\", \", \n",
        "           fmt ='% s')"
      ],
      "metadata": {
        "id": "5II6Q_szYW8p"
      },
      "execution_count": 19,
      "outputs": []
    },
    {
      "cell_type": "markdown",
      "source": [
        "## 3.- Clasificación de imagenes de temporadas de diferentes años."
      ],
      "metadata": {
        "id": "i8BDQt4Mofxk"
      }
    },
    {
      "cell_type": "code",
      "source": [
        "predict_data_dir = '/content/drive/Shareddrives/Caudales - Concentración/Imagenes/Prediction/Two Different Seasons'"
      ],
      "metadata": {
        "id": "IVEusvfNU7DH"
      },
      "execution_count": 20,
      "outputs": []
    },
    {
      "cell_type": "code",
      "source": [
        "image_generator = test_datagen.flow_from_directory(\n",
        "    predict_data_dir,\n",
        "    shuffle=True,\n",
        "    target_size=(img_width, img_height),\n",
        "    batch_size=batch_size,\n",
        "    class_mode='binary')"
      ],
      "metadata": {
        "id": "ctFr_jhiVKA4",
        "colab": {
          "base_uri": "https://localhost:8080/"
        },
        "outputId": "bc7ef23d-bf63-44a8-f5c8-30f4b5d00673"
      },
      "execution_count": 21,
      "outputs": [
        {
          "output_type": "stream",
          "name": "stdout",
          "text": [
            "Found 1998 images belonging to 2 classes.\n"
          ]
        }
      ]
    },
    {
      "cell_type": "code",
      "source": [
        "predict = model.predict(image_generator)"
      ],
      "metadata": {
        "id": "-bQk_he0VLUQ",
        "colab": {
          "base_uri": "https://localhost:8080/"
        },
        "outputId": "77852b68-0a6a-41a7-e235-26c1cebf4a76"
      },
      "execution_count": 23,
      "outputs": [
        {
          "output_type": "stream",
          "name": "stdout",
          "text": [
            "250/250 [==============================] - 2630s 11s/step\n"
          ]
        }
      ]
    },
    {
      "cell_type": "code",
      "source": [
        "print(predict)"
      ],
      "metadata": {
        "id": "-m_q6198VPuQ",
        "colab": {
          "base_uri": "https://localhost:8080/"
        },
        "outputId": "27d9ce14-e0f0-4ed2-cb06-7a4ca59c35c0"
      },
      "execution_count": 24,
      "outputs": [
        {
          "output_type": "stream",
          "name": "stdout",
          "text": [
            "[[1.0000000e+00 2.4884508e-09]\n",
            " [5.6761152e-01 4.3238848e-01]\n",
            " [1.0000000e+00 1.5273294e-08]\n",
            " ...\n",
            " [9.9999189e-01 8.0925711e-06]\n",
            " [9.9999988e-01 1.6470574e-07]\n",
            " [9.9996686e-01 3.3140757e-05]]\n"
          ]
        }
      ]
    },
    {
      "cell_type": "code",
      "source": [
        "two_season_list = []\n",
        "for pred in predict:\n",
        "  if pred[0] >= pred[1]:\n",
        "    two_season_list.append(0)\n",
        "  else:\n",
        "    two_season_list.append(1)\n",
        "\n",
        "print(two_season_list)"
      ],
      "metadata": {
        "id": "W2aiW4jqVRt4",
        "colab": {
          "base_uri": "https://localhost:8080/"
        },
        "outputId": "293f3a3d-19a2-406f-c196-bb830fc56d5a"
      },
      "execution_count": 25,
      "outputs": [
        {
          "output_type": "stream",
          "name": "stdout",
          "text": [
            "[0, 0, 0, 0, 0, 0, 0, 0, 0, 0, 0, 0, 0, 0, 0, 0, 0, 0, 0, 1, 1, 0, 0, 0, 1, 0, 0, 0, 0, 0, 1, 0, 0, 0, 0, 0, 0, 0, 0, 0, 0, 0, 1, 0, 0, 0, 0, 0, 0, 0, 0, 1, 0, 0, 0, 0, 0, 0, 0, 0, 0, 0, 0, 0, 0, 0, 0, 0, 0, 0, 0, 0, 0, 1, 0, 0, 0, 0, 1, 0, 0, 0, 0, 0, 0, 0, 0, 0, 0, 1, 0, 0, 0, 0, 0, 0, 0, 0, 0, 0, 0, 0, 0, 0, 0, 1, 0, 0, 1, 0, 0, 0, 0, 0, 0, 0, 0, 0, 0, 1, 0, 0, 0, 0, 0, 0, 0, 0, 0, 0, 0, 0, 1, 0, 0, 0, 0, 0, 1, 0, 0, 0, 0, 0, 0, 0, 0, 0, 0, 0, 1, 0, 0, 0, 0, 0, 0, 0, 0, 0, 1, 0, 0, 0, 0, 0, 0, 0, 0, 0, 0, 0, 0, 0, 0, 0, 0, 0, 0, 0, 0, 1, 1, 0, 0, 0, 0, 0, 0, 0, 0, 0, 0, 0, 0, 0, 0, 1, 0, 1, 0, 0, 0, 1, 0, 0, 0, 0, 0, 1, 0, 1, 1, 0, 0, 0, 0, 0, 1, 1, 0, 0, 1, 0, 0, 0, 0, 0, 0, 0, 0, 1, 0, 0, 0, 0, 0, 0, 0, 0, 0, 1, 0, 0, 0, 0, 1, 0, 0, 0, 0, 0, 0, 0, 0, 1, 0, 0, 0, 0, 1, 0, 0, 0, 0, 0, 0, 0, 0, 0, 0, 0, 0, 1, 0, 0, 0, 0, 0, 0, 0, 1, 0, 0, 0, 0, 0, 0, 1, 0, 0, 0, 0, 0, 0, 0, 0, 0, 0, 0, 0, 0, 0, 0, 0, 0, 0, 0, 0, 0, 0, 0, 0, 0, 0, 0, 0, 0, 0, 0, 0, 1, 0, 0, 0, 1, 0, 0, 0, 1, 0, 0, 0, 0, 0, 0, 0, 0, 0, 0, 0, 0, 0, 0, 0, 0, 0, 0, 1, 0, 0, 0, 0, 1, 0, 0, 0, 0, 0, 0, 0, 0, 0, 0, 0, 1, 0, 0, 1, 0, 0, 0, 1, 0, 0, 0, 0, 0, 0, 0, 0, 0, 0, 0, 0, 0, 0, 0, 0, 0, 1, 0, 0, 1, 0, 0, 0, 0, 0, 0, 1, 1, 0, 0, 0, 0, 0, 0, 1, 0, 0, 0, 0, 0, 0, 0, 1, 0, 0, 1, 0, 1, 0, 1, 1, 0, 0, 0, 0, 0, 0, 0, 0, 0, 0, 0, 0, 0, 0, 0, 0, 0, 0, 1, 0, 0, 0, 1, 0, 0, 0, 1, 0, 0, 0, 0, 0, 1, 0, 0, 0, 0, 0, 0, 0, 0, 0, 0, 0, 0, 0, 0, 0, 0, 0, 0, 0, 0, 0, 0, 0, 0, 0, 0, 0, 0, 0, 0, 0, 0, 0, 1, 1, 0, 0, 0, 0, 0, 0, 0, 0, 0, 0, 0, 0, 0, 1, 0, 0, 0, 0, 0, 0, 0, 0, 0, 0, 0, 0, 0, 0, 1, 0, 0, 0, 1, 0, 0, 1, 0, 0, 0, 0, 0, 0, 1, 1, 1, 1, 1, 0, 0, 0, 0, 0, 0, 1, 0, 0, 0, 0, 0, 0, 0, 0, 1, 0, 0, 0, 0, 1, 0, 0, 0, 1, 0, 0, 0, 0, 0, 0, 0, 0, 0, 0, 0, 0, 0, 0, 0, 0, 1, 1, 0, 0, 0, 1, 0, 0, 0, 0, 0, 0, 1, 0, 0, 0, 0, 0, 0, 0, 0, 0, 1, 0, 0, 0, 0, 0, 0, 0, 0, 0, 0, 0, 1, 0, 1, 0, 0, 0, 0, 0, 0, 0, 0, 0, 0, 1, 0, 1, 0, 0, 0, 0, 0, 0, 0, 0, 0, 0, 0, 0, 1, 0, 0, 0, 0, 0, 0, 0, 0, 0, 0, 1, 0, 0, 0, 0, 0, 0, 0, 0, 0, 1, 0, 0, 0, 1, 0, 0, 0, 0, 0, 0, 1, 0, 0, 0, 0, 0, 0, 0, 0, 0, 0, 0, 0, 0, 0, 0, 1, 0, 0, 0, 0, 0, 0, 0, 0, 0, 1, 0, 0, 0, 0, 0, 0, 0, 1, 0, 0, 0, 0, 0, 0, 0, 0, 1, 0, 0, 0, 0, 0, 0, 0, 0, 1, 0, 0, 0, 0, 0, 0, 0, 0, 0, 0, 0, 0, 0, 0, 0, 0, 0, 0, 0, 1, 0, 0, 0, 1, 0, 0, 1, 1, 0, 0, 0, 0, 1, 0, 1, 0, 0, 1, 1, 0, 0, 0, 0, 0, 0, 0, 0, 0, 0, 0, 0, 0, 0, 0, 1, 0, 0, 1, 0, 0, 0, 0, 0, 0, 0, 0, 0, 0, 0, 0, 0, 0, 0, 0, 0, 0, 0, 1, 0, 1, 0, 0, 1, 1, 0, 0, 0, 0, 0, 0, 0, 0, 0, 0, 0, 0, 0, 0, 0, 0, 0, 0, 0, 0, 0, 0, 0, 0, 0, 0, 0, 0, 0, 1, 1, 0, 1, 0, 0, 0, 0, 1, 0, 0, 0, 1, 0, 1, 0, 0, 0, 0, 1, 0, 0, 0, 1, 0, 0, 0, 1, 0, 1, 0, 0, 0, 0, 0, 0, 0, 1, 0, 0, 0, 0, 0, 0, 0, 0, 0, 0, 0, 1, 0, 0, 0, 0, 1, 0, 1, 0, 0, 0, 0, 0, 0, 0, 0, 0, 0, 0, 0, 0, 0, 0, 0, 1, 0, 0, 0, 0, 0, 0, 1, 0, 0, 0, 0, 0, 0, 0, 0, 0, 0, 0, 1, 0, 0, 0, 0, 0, 0, 0, 1, 0, 0, 0, 0, 0, 0, 0, 0, 1, 0, 1, 0, 0, 0, 0, 0, 1, 1, 0, 0, 1, 0, 0, 1, 0, 0, 0, 0, 0, 0, 1, 1, 0, 0, 0, 0, 0, 0, 0, 0, 0, 0, 0, 0, 0, 0, 0, 0, 0, 0, 1, 0, 0, 0, 0, 1, 0, 0, 0, 0, 0, 0, 0, 0, 1, 0, 0, 0, 0, 0, 0, 0, 0, 0, 1, 0, 0, 0, 1, 0, 0, 1, 1, 1, 0, 0, 0, 0, 0, 0, 1, 0, 0, 1, 0, 1, 0, 1, 0, 0, 0, 0, 0, 0, 1, 0, 0, 1, 1, 0, 0, 1, 0, 0, 0, 0, 0, 0, 0, 0, 0, 0, 0, 0, 0, 0, 0, 0, 0, 0, 1, 0, 1, 0, 0, 0, 0, 0, 0, 1, 0, 0, 0, 1, 0, 0, 0, 0, 0, 1, 0, 0, 0, 0, 0, 0, 0, 0, 0, 0, 0, 0, 1, 0, 1, 0, 0, 0, 0, 0, 0, 0, 0, 1, 0, 0, 0, 0, 0, 1, 0, 0, 0, 0, 0, 1, 0, 1, 0, 0, 0, 0, 0, 1, 0, 0, 0, 0, 0, 0, 0, 0, 0, 0, 0, 0, 0, 1, 0, 0, 0, 0, 0, 0, 0, 0, 1, 1, 0, 0, 0, 0, 0, 0, 0, 0, 0, 0, 0, 0, 1, 0, 0, 1, 0, 0, 0, 0, 0, 0, 0, 0, 0, 0, 0, 0, 1, 0, 0, 0, 0, 0, 0, 0, 0, 0, 1, 1, 1, 0, 0, 0, 0, 0, 0, 0, 0, 1, 0, 0, 0, 0, 0, 0, 1, 1, 0, 0, 0, 1, 1, 0, 1, 0, 0, 0, 1, 0, 0, 0, 0, 0, 0, 0, 0, 0, 0, 0, 0, 0, 0, 0, 0, 0, 0, 0, 0, 1, 0, 0, 0, 0, 0, 0, 0, 0, 0, 0, 0, 0, 0, 0, 0, 0, 1, 1, 0, 0, 0, 0, 0, 0, 0, 0, 0, 0, 0, 1, 0, 0, 0, 1, 0, 0, 0, 0, 0, 1, 1, 0, 0, 0, 0, 0, 1, 0, 0, 0, 0, 0, 0, 1, 0, 0, 1, 0, 0, 1, 1, 0, 1, 0, 0, 0, 0, 1, 0, 0, 0, 0, 0, 0, 0, 0, 0, 0, 0, 0, 1, 0, 0, 0, 0, 0, 0, 0, 0, 0, 0, 0, 0, 0, 0, 1, 0, 0, 0, 0, 0, 1, 0, 0, 0, 0, 0, 0, 0, 1, 0, 1, 0, 1, 0, 0, 0, 0, 1, 0, 0, 0, 0, 0, 0, 0, 0, 0, 1, 0, 0, 0, 0, 0, 1, 1, 1, 0, 0, 0, 1, 1, 0, 0, 0, 0, 0, 0, 0, 0, 1, 1, 1, 0, 0, 0, 1, 0, 0, 0, 0, 1, 0, 1, 0, 1, 0, 0, 0, 0, 0, 1, 0, 0, 0, 0, 0, 0, 0, 0, 0, 0, 0, 0, 0, 0, 0, 0, 0, 0, 0, 1, 0, 0, 0, 0, 0, 0, 0, 0, 0, 0, 0, 0, 1, 0, 0, 0, 0, 0, 0, 0, 0, 0, 0, 0, 0, 1, 1, 0, 0, 0, 1, 0, 0, 0, 0, 0, 0, 0, 0, 0, 0, 1, 0, 0, 1, 0, 0, 0, 0, 0, 0, 0, 0, 0, 0, 0, 0, 1, 0, 0, 0, 0, 0, 1, 0, 0, 0, 0, 0, 1, 0, 0, 0, 0, 0, 0, 0, 0, 0, 1, 0, 0, 0, 0, 0, 0, 0, 0, 0, 1, 1, 0, 1, 0, 0, 0, 0, 1, 0, 0, 1, 0, 0, 0, 0, 0, 1, 1, 0, 0, 0, 0, 0, 0, 0, 0, 0, 0, 0, 0, 0, 0, 0, 0, 0, 0, 0, 0, 0, 1, 1, 0, 0, 0, 1, 0, 0, 0, 0, 0, 0, 0, 0, 0, 0, 0, 0, 0, 0, 0, 1, 0, 0, 0, 1, 0, 0, 0, 0, 0, 1, 0, 0, 0, 0, 0, 0, 0, 0, 0, 0, 0, 0, 1, 0, 1, 0, 0, 0, 0, 1, 0, 0, 1, 0, 0, 1, 0, 0, 0, 0, 0, 0, 0, 0, 0, 0, 0, 0, 0, 0, 1, 0, 0, 0, 0, 0, 0, 0, 0, 0, 1, 0, 0, 0, 0, 0, 0, 0, 0, 0, 0, 0, 0, 0, 0, 0, 0, 1, 0, 0, 0, 0, 0, 1, 0, 1, 0, 0, 0, 0, 0, 1, 0, 0, 0, 1, 0, 0, 0, 0, 0, 0, 0, 0, 0, 0, 0, 0, 0, 0, 1, 0, 0, 0, 0, 0, 0, 0, 0, 0, 0, 0, 0, 0, 0, 0, 0, 1, 0, 0, 0, 0, 0, 0, 0, 0, 0, 0, 0, 0, 0, 0, 0, 0, 0, 0, 0, 0, 0, 1, 0, 0, 0, 0, 0, 0, 0, 0, 0, 0, 0, 0, 0, 0, 0, 0, 0, 0, 0, 0, 0, 0, 0, 0, 0, 0, 0, 0, 1, 0, 0, 1, 0, 0, 0, 0, 0, 1, 1, 1, 0, 0, 0, 0, 0, 0, 0, 0, 1, 0, 0, 0, 0, 0, 0, 0, 0, 0, 0, 0, 0, 0, 0, 0, 0, 0, 0, 0, 0, 0, 0, 0, 1, 1, 1, 0, 0, 0, 0, 0, 0, 0, 0, 1, 0, 0, 0, 0, 0, 0, 0, 0, 0, 0, 0, 0, 0, 0, 0, 0, 0, 0, 0, 0, 0, 0, 1, 0, 0, 0, 0, 0, 0, 0, 0, 1, 0, 0, 0, 0, 0, 1, 0, 0, 0, 0, 0, 0, 0, 1, 1, 0, 0, 0, 0, 0, 0, 0, 0, 0, 0, 0, 0, 0, 0, 0, 0, 0, 0, 0, 0, 0, 0, 0, 0, 0, 0, 1, 0, 0, 0, 0, 0, 0, 0, 0, 0, 0, 0, 0, 0, 0, 0, 0, 0, 0, 1, 0, 0, 0, 0, 1, 1, 1, 0, 1, 1, 0, 0, 0, 1, 0, 0, 0, 0, 0, 0, 0, 0, 0, 0, 0, 0, 0, 0, 0, 0, 0, 0, 0, 0, 0, 0, 0, 0, 0, 0, 0, 0, 0, 0, 1, 0, 0, 0, 1, 0, 0, 0, 0, 0, 1, 0, 0, 0, 0, 0, 0, 0, 0, 0, 0, 0, 0, 0, 0, 0, 1, 0, 1, 0, 0, 0, 0, 0]\n"
          ]
        }
      ]
    },
    {
      "cell_type": "code",
      "source": [
        "ans = []\n",
        "for file, pred in zip(image_generator.filenames,two_season_list):\n",
        "    file = file.replace('20190624', '',1)\n",
        "    file = file.replace('20130803', '',1)\n",
        "    file = file.replace(' (1)', '',1)\n",
        "    file = file.replace('/', '')\n",
        "    if pred == 1:\n",
        "      ans.append([file])\n",
        "print(ans)"
      ],
      "metadata": {
        "id": "R1-eknguVS8O",
        "colab": {
          "base_uri": "https://localhost:8080/"
        },
        "outputId": "a04e7c0e-99a3-47a6-b7d6-a63fbacc863c"
      },
      "execution_count": 26,
      "outputs": [
        {
          "output_type": "stream",
          "name": "stdout",
          "text": [
            "[['StateLineWeir_20130804_Farrell_020.JPG'], ['StateLineWeir_20130804_Farrell_021.JPG'], ['StateLineWeir_20130805_Farrell_025.JPG'], ['StateLineWeir_20130805_Farrell_031.JPG'], ['StateLineWeir_20130806_Farrell_043.JPG'], ['StateLineWeir_20130806_Farrell_052.JPG'], ['StateLineWeir_20130807_Farrell_074.JPG'], ['StateLineWeir_20130808_Farrell_079.JPG'], ['StateLineWeir_20130808_Farrell_090.JPG'], ['StateLineWeir_20130809_Farrell_106.JPG'], ['StateLineWeir_20130810_Farrell_109.JPG'], ['StateLineWeir_20130810_Farrell_120.JPG'], ['StateLineWeir_20130811_Farrell_133.JPG'], ['StateLineWeir_20130811_Farrell_139.JPG'], ['StateLineWeir_20130812_Farrell_151.JPG'], ['StateLineWeir_20130813_Farrell_161.JPG'], ['StateLineWeir_20130814_Farrell_182.JPG'], ['StateLineWeir_20130814_Farrell_183.JPG'], ['StateLineWeir_20130815_Farrell_198.JPG'], ['StateLineWeir_20130815_Farrell_200.JPG'], ['StateLineWeir_20130816_Farrell_204.JPG'], ['StateLineWeir_20130816_Farrell_210.JPG'], ['StateLineWeir_20130816_Farrell_212.JPG'], ['StateLineWeir_20130816_Farrell_213.JPG'], ['StateLineWeir_20130817_Farrell_219.JPG'], ['StateLineWeir_20130817_Farrell_220.JPG'], ['StateLineWeir_20130817_Farrell_223.JPG'], ['StateLineWeir_20130817_Farrell_232.JPG'], ['StateLineWeir_20130818_Farrell_242.JPG'], ['StateLineWeir_20130818_Farrell_247.JPG'], ['StateLineWeir_20130819_Farrell_256.JPG'], ['StateLineWeir_20130819_Farrell_261.JPG'], ['StateLineWeir_20130820_Farrell_274.JPG'], ['StateLineWeir_20130821_Farrell_282.JPG'], ['StateLineWeir_20130821_Farrell_289.JPG'], ['StateLineWeir_20130823_Farrell_322.JPG'], ['StateLineWeir_20130824_Farrell_326.JPG'], ['StateLineWeir_20130824_Farrell_330.JPG'], ['StateLineWeir_20130825_Farrell_349.JPG'], ['StateLineWeir_20130826_Farrell_354.JPG'], ['StateLineWeir_20130826_Farrell_366.JPG'], ['StateLineWeir_20130827_Farrell_369.JPG'], ['StateLineWeir_20130827_Farrell_373.JPG'], ['StateLineWeir_20130828_Farrell_391.JPG'], ['StateLineWeir_20130829_Farrell_394.JPG'], ['StateLineWeir_20130829_Farrell_401.JPG'], ['StateLineWeir_20130829_Farrell_402.JPG'], ['StateLineWeir_20130830_Farrell_409.JPG'], ['StateLineWeir_20130830_Farrell_417.JPG'], ['StateLineWeir_20130830_Farrell_420.JPG'], ['StateLineWeir_20130831_Farrell_422.JPG'], ['StateLineWeir_20130831_Farrell_424.JPG'], ['StateLineWeir_20130831_Farrell_425.JPG'], ['StateLineWeir_20130901_Farrell_444.JPG'], ['StateLineWeir_20130901_Farrell_448.JPG'], ['StateLineWeir_20130902_Farrell_452.JPG'], ['StateLineWeir_20130902_Farrell_458.JPG'], ['StateLineWeir_20130904_Farrell_492.JPG'], ['StateLineWeir_20130904_Farrell_493.JPG'], ['StateLineWeir_20130905_Farrell_507.JPG'], ['StateLineWeir_20130906_Farrell_522.JPG'], ['StateLineWeir_20130906_Farrell_526.JPG'], ['StateLineWeir_20130907_Farrell_529.JPG'], ['StateLineWeir_20130907_Farrell_536.JPG'], ['StateLineWeir_20130907_Farrell_537.JPG'], ['StateLineWeir_20130907_Farrell_538.JPG'], ['StateLineWeir_20130907_Farrell_539.JPG'], ['StateLineWeir_20130907_Farrell_540.JPG'], ['StateLineWeir_20130908_Farrell_547.JPG'], ['StateLineWeir_20130908_Farrell_556.JPG'], ['StateLineWeir_20130909_Farrell_561.JPG'], ['StateLineWeir_20130909_Farrell_565.JPG'], ['StateLineWeir_20130910_Farrell_582.JPG'], ['StateLineWeir_20130910_Farrell_583.JPG'], ['StateLineWeir_20130911_Farrell_587.JPG'], ['StateLineWeir_20130911_Farrell_594.JPG'], ['StateLineWeir_20130912_Farrell_604.JPG'], ['StateLineWeir_20130912_Farrell_616.JPG'], ['StateLineWeir_20130913_Farrell_618.JPG'], ['StateLineWeir_20130913_Farrell_629.JPG'], ['StateLineWeir_20130913_Farrell_631.JPG'], ['StateLineWeir_20130914_Farrell_644.JPG'], ['StateLineWeir_20130915_Farrell_655.JPG'], ['StateLineWeir_20130916_Farrell_665.JPG'], ['StateLineWeir_20130916_Farrell_669.JPG'], ['StateLineWeir_20130916_Farrell_676.JPG'], ['StateLineWeir_20130918_Farrell_692.JPG'], ['StateLineWeir_20130918_Farrell_702.JPG'], ['StateLineWeir_20130919_Farrell_710.JPG'], ['StateLineWeir_20130919_Farrell_719.JPG'], ['StateLineWeir_20130920_Farrell_728.JPG'], ['StateLineWeir_20130921_Farrell_748.JPG'], ['StateLineWeir_20130922_Farrell_752.JPG'], ['StateLineWeir_20130922_Farrell_755.JPG'], ['StateLineWeir_20130922_Farrell_756.JPG'], ['StateLineWeir_20130922_Farrell_761.JPG'], ['StateLineWeir_20130922_Farrell_763.JPG'], ['StateLineWeir_20130922_Farrell_766.JPG'], ['StateLineWeir_20130923_Farrell_767.JPG'], ['StateLineWeir_20130924_Farrell_783.JPG'], ['StateLineWeir_20130924_Farrell_786.JPG'], ['StateLineWeir_20130925_Farrell_806.JPG'], ['StateLineWeir_20130925_Farrell_808.JPG'], ['StateLineWeir_20130925_Farrell_811.JPG'], ['StateLineWeir_20130926_Farrell_812.JPG'], ['StateLineWeir_20130928_Farrell_842.JPG'], ['StateLineWeir_20130928_Farrell_843.JPG'], ['StateLineWeir_20130928_Farrell_845.JPG'], ['StateLineWeir_20130928_Farrell_850.JPG'], ['StateLineWeir_20130928_Farrell_854.JPG'], ['StateLineWeir_20130928_Farrell_856.JPG'], ['StateLineWeir_20130929_Farrell_861.JPG'], ['StateLineWeir_20130929_Farrell_865.JPG'], ['StateLineWeir_20130929_Farrell_869.JPG'], ['StateLineWeir_20130929_Farrell_871.JPG'], ['StateLineWeir_20130930_Farrell_879.JPG'], ['StateLineWeir_20131001_Farrell_891.JPG'], ['StateLineWeir_20131001_Farrell_896.JPG'], ['StateLineWeir_20131001_Farrell_898.JPG'], ['StateLineWeir_20131002_Farrell_915.JPG'], ['StateLineWeir_20131003_Farrell_922.JPG'], ['StateLineWeir_20131004_Farrell_934.JPG'], ['StateLineWeir_20131004_Farrell_942.JPG'], ['StateLineWeir_20131005_Farrell_951.JPG'], ['StateLineWeir_20131005_Farrell_953.JPG'], ['StateLineWeir_20131005_Farrell_959.JPG'], ['StateLineWeir_20131005_Farrell_960.JPG'], ['StateLineWeir_20131006_Farrell_963.JPG'], ['StateLineWeir_20131006_Farrell_966.JPG'], ['StateLineWeir_20131006_Farrell_973.JPG'], ['StateLineWeir_20131006_Farrell_974.JPG'], ['StateLineWeir_20131008_Farrell_993.JPG'], ['StateLineWeir_20131008_Farrell_998.JPG'], ['StateLineWeir_20190624_Farrell_008.jpg'], ['StateLineWeir_20190625_Farrell_018.jpg'], ['StateLineWeir_20190625_Farrell_022.jpg'], ['StateLineWeir_20190625_Farrell_025.jpg'], ['StateLineWeir_20190625_Farrell_026.jpg'], ['StateLineWeir_20190625_Farrell_027.jpg'], ['StateLineWeir_20190625_Farrell_034.jpg'], ['StateLineWeir_20190626_Farrell_037.jpg'], ['StateLineWeir_20190626_Farrell_039.jpg'], ['StateLineWeir_20190626_Farrell_041.jpg'], ['StateLineWeir_20190626_Farrell_048.jpg'], ['StateLineWeir_20190626_Farrell_051.jpg'], ['StateLineWeir_20190626_Farrell_052.jpg'], ['StateLineWeir_20190626_Farrell_055.jpg'], ['StateLineWeir_20190627_Farrell_074.jpg'], ['StateLineWeir_20190627_Farrell_076.jpg'], ['StateLineWeir_20190627_Farrell_083.jpg'], ['StateLineWeir_20190628_Farrell_087.jpg'], ['StateLineWeir_20190628_Farrell_093.jpg'], ['StateLineWeir_20190628_Farrell_106.jpg'], ['StateLineWeir_20190628_Farrell_108.jpg'], ['StateLineWeir_20190629_Farrell_117.jpg'], ['StateLineWeir_20190629_Farrell_123.jpg'], ['StateLineWeir_20190629_Farrell_129.jpg'], ['StateLineWeir_20190629_Farrell_131.jpg'], ['StateLineWeir_20190629_Farrell_137.jpg'], ['StateLineWeir_20190630_Farrell_151.jpg'], ['StateLineWeir_20190701_Farrell_160.jpg'], ['StateLineWeir_20190701_Farrell_161.jpg'], ['StateLineWeir_20190701_Farrell_174.jpg'], ['StateLineWeir_20190701_Farrell_177.jpg'], ['StateLineWeir_20190702_Farrell_190.jpg'], ['StateLineWeir_20190702_Farrell_200.jpg'], ['StateLineWeir_20190702_Farrell_201.jpg'], ['StateLineWeir_20190702_Farrell_202.jpg'], ['StateLineWeir_20190702_Farrell_211.jpg'], ['StateLineWeir_20190703_Farrell_218.jpg'], ['StateLineWeir_20190703_Farrell_219.jpg'], ['StateLineWeir_20190703_Farrell_223.jpg'], ['StateLineWeir_20190703_Farrell_224.jpg'], ['StateLineWeir_20190703_Farrell_226.jpg'], ['StateLineWeir_20190703_Farrell_230.jpg'], ['StateLineWeir_20190704_Farrell_251.jpg'], ['StateLineWeir_20190705_Farrell_268.jpg'], ['StateLineWeir_20190705_Farrell_269.jpg'], ['StateLineWeir_20190705_Farrell_281.jpg'], ['StateLineWeir_20190705_Farrell_285.jpg'], ['StateLineWeir_20190706_Farrell_291.jpg'], ['StateLineWeir_20190706_Farrell_292.jpg'], ['StateLineWeir_20190706_Farrell_298.jpg'], ['StateLineWeir_20190706_Farrell_305.jpg'], ['StateLineWeir_20190706_Farrell_308.jpg'], ['StateLineWeir_20190706_Farrell_311.jpg'], ['StateLineWeir_20190706_Farrell_312.jpg'], ['StateLineWeir_20190706_Farrell_314.jpg'], ['StateLineWeir_20190707_Farrell_319.jpg'], ['StateLineWeir_20190707_Farrell_332.jpg'], ['StateLineWeir_20190708_Farrell_347.jpg'], ['StateLineWeir_20190708_Farrell_353.jpg'], ['StateLineWeir_20190708_Farrell_361.jpg'], ['StateLineWeir_20190708_Farrell_363.jpg'], ['StateLineWeir_20190708_Farrell_365.jpg'], ['StateLineWeir_20190709_Farrell_370.jpg'], ['StateLineWeir_20190709_Farrell_380.jpg'], ['StateLineWeir_20190709_Farrell_386.jpg'], ['StateLineWeir_20190709_Farrell_387.jpg'], ['StateLineWeir_20190709_Farrell_388.jpg'], ['StateLineWeir_20190709_Farrell_392.jpg'], ['StateLineWeir_20190709_Farrell_393.jpg'], ['StateLineWeir_20190710_Farrell_402.jpg'], ['StateLineWeir_20190710_Farrell_403.jpg'], ['StateLineWeir_20190710_Farrell_404.jpg'], ['StateLineWeir_20190710_Farrell_408.jpg'], ['StateLineWeir_20190710_Farrell_413.jpg'], ['StateLineWeir_20190710_Farrell_415.jpg'], ['StateLineWeir_20190710_Farrell_417.jpg'], ['StateLineWeir_20190711_Farrell_423.jpg'], ['StateLineWeir_20190711_Farrell_443.jpg'], ['StateLineWeir_20190712_Farrell_456.jpg'], ['StateLineWeir_20190712_Farrell_469.jpg'], ['StateLineWeir_20190713_Farrell_470.jpg'], ['StateLineWeir_20190713_Farrell_474.jpg'], ['StateLineWeir_20190713_Farrell_485.jpg'], ['StateLineWeir_20190713_Farrell_488.jpg'], ['StateLineWeir_20190714_Farrell_501.jpg'], ['StateLineWeir_20190714_Farrell_507.jpg'], ['StateLineWeir_20190714_Farrell_513.jpg'], ['StateLineWeir_20190715_Farrell_523.jpg'], ['StateLineWeir_20190715_Farrell_533.jpg'], ['StateLineWeir_20190715_Farrell_534.jpg'], ['StateLineWeir_20190715_Farrell_536.jpg'], ['StateLineWeir_20190715_Farrell_541.jpg'], ['StateLineWeir_20190715_Farrell_544.jpg'], ['StateLineWeir_20190716_Farrell_550.jpg'], ['StateLineWeir_20190716_Farrell_551.jpg'], ['StateLineWeir_20190717_Farrell_573.jpg'], ['StateLineWeir_20190717_Farrell_574.jpg'], ['StateLineWeir_20190717_Farrell_578.jpg'], ['StateLineWeir_20190718_Farrell_594.jpg'], ['StateLineWeir_20190718_Farrell_598.jpg'], ['StateLineWeir_20190718_Farrell_604.jpg'], ['StateLineWeir_20190719_Farrell_617.jpg'], ['StateLineWeir_20190719_Farrell_619.jpg'], ['StateLineWeir_20190719_Farrell_624.jpg'], ['StateLineWeir_20190719_Farrell_627.jpg'], ['StateLineWeir_20190719_Farrell_630.jpg'], ['StateLineWeir_20190720_Farrell_645.jpg'], ['StateLineWeir_20190720_Farrell_655.jpg'], ['StateLineWeir_20190721_Farrell_672.jpg'], ['StateLineWeir_20190721_Farrell_678.jpg'], ['StateLineWeir_20190721_Farrell_680.jpg'], ['StateLineWeir_20190721_Farrell_686.jpg'], ['StateLineWeir_20190721_Farrell_690.jpg'], ['StateLineWeir_20190722_Farrell_705.jpg'], ['StateLineWeir_20190722_Farrell_722.jpg'], ['StateLineWeir_20190723_Farrell_744.jpg'], ['StateLineWeir_20190725_Farrell_773.jpg'], ['StateLineWeir_20190725_Farrell_776.jpg'], ['StateLineWeir_20190725_Farrell_782.jpg'], ['StateLineWeir_20190725_Farrell_783.jpg'], ['StateLineWeir_20190725_Farrell_784.jpg'], ['StateLineWeir_20190725_Farrell_793.jpg'], ['StateLineWeir_20190726_Farrell_817.jpg'], ['StateLineWeir_20190727_Farrell_818.jpg'], ['StateLineWeir_20190727_Farrell_819.jpg'], ['StateLineWeir_20190727_Farrell_828.jpg'], ['StateLineWeir_20190728_Farrell_851.jpg'], ['StateLineWeir_20190728_Farrell_860.jpg'], ['StateLineWeir_20190729_Farrell_866.jpg'], ['StateLineWeir_20190729_Farrell_874.jpg'], ['StateLineWeir_20190729_Farrell_875.jpg'], ['StateLineWeir_20190730_Farrell_902.jpg'], ['StateLineWeir_20190731_Farrell_921.jpg'], ['StateLineWeir_20190731_Farrell_926.jpg'], ['StateLineWeir_20190731_Farrell_927.jpg'], ['StateLineWeir_20190731_Farrell_928.jpg'], ['StateLineWeir_20190801_Farrell_930.jpg'], ['StateLineWeir_20190801_Farrell_931.jpg'], ['StateLineWeir_20190801_Farrell_935.jpg'], ['StateLineWeir_20190802_Farrell_966.jpg'], ['StateLineWeir_20190802_Farrell_970.jpg'], ['StateLineWeir_20190802_Farrell_976.jpg'], ['StateLineWeir_20190803_Farrell_992.jpg'], ['StateLineWeir_20190803_Farrell_994.jpg']]\n"
          ]
        }
      ]
    },
    {
      "cell_type": "code",
      "source": [
        "np.savetxt(\"/content/drive/Shareddrives/Caudales - Concentración/Reto/Dataset/different_seasons.csv\", \n",
        "           ans,\n",
        "           delimiter =\", \", \n",
        "           fmt ='% s')"
      ],
      "metadata": {
        "id": "rPeSWyIsepjG"
      },
      "execution_count": 27,
      "outputs": []
    }
  ],
  "metadata": {
    "colab": {
      "provenance": []
    },
    "gpuClass": "standard",
    "kernelspec": {
      "display_name": "Python 3",
      "name": "python3"
    },
    "language_info": {
      "name": "python"
    },
    "accelerator": "GPU"
  },
  "nbformat": 4,
  "nbformat_minor": 0
}